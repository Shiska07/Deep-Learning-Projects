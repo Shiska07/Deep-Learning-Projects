{
  "nbformat": 4,
  "nbformat_minor": 0,
  "metadata": {
    "colab": {
      "provenance": []
    },
    "kernelspec": {
      "name": "python3",
      "display_name": "Python 3"
    },
    "language_info": {
      "name": "python"
    }
  },
  "cells": [
    {
      "cell_type": "code",
      "source": [
        "from google.colab import drive\n",
        "drive.mount('/content/drive')"
      ],
      "metadata": {
        "colab": {
          "base_uri": "https://localhost:8080/"
        },
        "id": "1shJVSc8uuSS",
        "outputId": "eba296bc-60db-4c25-83d5-1e3a9a70a4fb"
      },
      "execution_count": null,
      "outputs": [
        {
          "output_type": "stream",
          "name": "stdout",
          "text": [
            "Mounted at /content/drive\n"
          ]
        }
      ]
    },
    {
      "cell_type": "code",
      "execution_count": null,
      "metadata": {
        "id": "yMEEurQHumGl"
      },
      "outputs": [],
      "source": [
        "import os\n",
        "import cv2\n",
        "import numpy as np\n",
        "import pandas as pd\n",
        "from PIL import Image\n",
        "import matplotlib.pyplot as plt"
      ]
    },
    {
      "cell_type": "code",
      "source": [
        "def crop_image(image, x, y, width, height):\n",
        "\n",
        "  left = x\n",
        "  upper = y\n",
        "  right = x + width\n",
        "  lower = y + height\n",
        "\n",
        "  cropped_image = image[left:right, upper:lower]\n",
        "  return cropped_image\n",
        "\n",
        "def create_bbox_df(image_names_file, bbox_file_path):\n",
        "\n",
        "  # read files and create dfs\n",
        "  img_df = pd.read_csv(image_names_path, delim_whitespace = True, index_col=False, header=None).iloc[:,1]\n",
        "  bbox_df = pd.read_csv(bbox_file_path, delim_whitespace = True, index_col=False, header=None, dtype = np.int64).iloc[:,1:]\n",
        "  img_df.columns = ['class_name']\n",
        "  bbox_df.columns = ['x1', 'y1', 'x2', 'y2']\n",
        "\n",
        "  # join dfs\n",
        "  df = pd.concat([img_df, bbox_df], axis = 1)\n",
        "\n",
        "  return df\n",
        "\n",
        "\n",
        "def get_cropped_images(src_path, dst_path, bbox_df):\n",
        "\n",
        "  if not os.path.exists(dst_path):\n",
        "    os.makedirs(dst_path)\n",
        "\n",
        "  for i in range(len(bbox_df)):\n",
        "    image_name = bbox_df.iloc[i, 0]\n",
        "    folder_name = image_name.split('/')[0]\n",
        "    x, y, w, h = bbox_df.iloc[i, 1],bbox_df.iloc[i, 2], bbox_df.iloc[i, 3], bbox_df.iloc[i, 4]\n",
        "\n",
        "    src_img_path = os.path.join(src_path, image_name)\n",
        "    dst_folder_path = os.path.join(dst_path, folder_name)\n",
        "    dst_img_path = os.path.join(dst_path, image_name)\n",
        "\n",
        "    image = cv2.imread(src_img_path, cv2.IMREAD_COLOR)\n",
        "    cropped_img = crop_image(image, x, y, w, h)\n",
        "\n",
        "    # if the class folder does not exist, create folder\n",
        "    if not os.path.exists(dst_folder_path):\n",
        "        os.makedirs(dst_folder_path)\n",
        "\n",
        "    cv2.imwrite(dst_img_path, cropped_img)\n",
        "\n",
        "  print('Cropping Completed.\\n')\n",
        "  return dst_path\n"
      ],
      "metadata": {
        "id": "GPhwLJCxvI2K"
      },
      "execution_count": 38,
      "outputs": []
    },
    {
      "cell_type": "code",
      "source": [
        "# provide paths\n",
        "img_src_path = '/content/drive/MyDrive/Colab Notebooks/Data/CUB_200_2011/images'\n",
        "img_dst_path = '/content/drive/MyDrive/Colab Notebooks/Data/CUB_200_2011/images_cropped'\n",
        "bbox_file_path = '/content/drive/MyDrive/Colab Notebooks/Data/CUB_200_2011/bounding_boxes.txt'\n",
        "image_names_path = '/content/drive/MyDrive/Colab Notebooks/Data/CUB_200_2011/images.txt'"
      ],
      "metadata": {
        "id": "G4k0AYmiAJBL"
      },
      "execution_count": 39,
      "outputs": []
    },
    {
      "cell_type": "code",
      "source": [
        "# create df with image name and bbox info\n",
        "bbox_df = create_bbox_df(image_names_path, bbox_file_path)\n",
        "\n",
        "# crop and store images in a different folder\n",
        "get_cropped_images(img_src_path, img_dst_path, bbox_df)"
      ],
      "metadata": {
        "colab": {
          "base_uri": "https://localhost:8080/",
          "height": 349
        },
        "id": "M4Ccuseu46ip",
        "outputId": "38c1da69-de29-41cb-914e-63946b43efe6"
      },
      "execution_count": 40,
      "outputs": [
        {
          "output_type": "error",
          "ename": "error",
          "evalue": "ignored",
          "traceback": [
            "\u001b[0;31m---------------------------------------------------------------------------\u001b[0m",
            "\u001b[0;31merror\u001b[0m                                     Traceback (most recent call last)",
            "\u001b[0;32m<ipython-input-40-cf6eb66b6975>\u001b[0m in \u001b[0;36m<cell line: 5>\u001b[0;34m()\u001b[0m\n\u001b[1;32m      3\u001b[0m \u001b[0;34m\u001b[0m\u001b[0m\n\u001b[1;32m      4\u001b[0m \u001b[0;31m# crop and store images in a different folder\u001b[0m\u001b[0;34m\u001b[0m\u001b[0;34m\u001b[0m\u001b[0m\n\u001b[0;32m----> 5\u001b[0;31m \u001b[0mget_cropped_images\u001b[0m\u001b[0;34m(\u001b[0m\u001b[0mimg_src_path\u001b[0m\u001b[0;34m,\u001b[0m \u001b[0mimg_dst_path\u001b[0m\u001b[0;34m,\u001b[0m \u001b[0mbbox_df\u001b[0m\u001b[0;34m)\u001b[0m\u001b[0;34m\u001b[0m\u001b[0;34m\u001b[0m\u001b[0m\n\u001b[0m",
            "\u001b[0;32m<ipython-input-38-dc06afac0c12>\u001b[0m in \u001b[0;36mget_cropped_images\u001b[0;34m(src_path, dst_path, bbox_df)\u001b[0m\n\u001b[1;32m     44\u001b[0m         \u001b[0mos\u001b[0m\u001b[0;34m.\u001b[0m\u001b[0mmakedirs\u001b[0m\u001b[0;34m(\u001b[0m\u001b[0mdst_folder_path\u001b[0m\u001b[0;34m)\u001b[0m\u001b[0;34m\u001b[0m\u001b[0;34m\u001b[0m\u001b[0m\n\u001b[1;32m     45\u001b[0m \u001b[0;34m\u001b[0m\u001b[0m\n\u001b[0;32m---> 46\u001b[0;31m     \u001b[0mcv2\u001b[0m\u001b[0;34m.\u001b[0m\u001b[0mimwrite\u001b[0m\u001b[0;34m(\u001b[0m\u001b[0mdst_img_path\u001b[0m\u001b[0;34m,\u001b[0m \u001b[0mcropped_img\u001b[0m\u001b[0;34m)\u001b[0m\u001b[0;34m\u001b[0m\u001b[0;34m\u001b[0m\u001b[0m\n\u001b[0m\u001b[1;32m     47\u001b[0m \u001b[0;34m\u001b[0m\u001b[0m\n\u001b[1;32m     48\u001b[0m   \u001b[0mprint\u001b[0m\u001b[0;34m(\u001b[0m\u001b[0;34m'Cropping Completed.\\n'\u001b[0m\u001b[0;34m)\u001b[0m\u001b[0;34m\u001b[0m\u001b[0;34m\u001b[0m\u001b[0m\n",
            "\u001b[0;31merror\u001b[0m: OpenCV(4.8.0) /io/opencv/modules/imgcodecs/src/loadsave.cpp:787: error: (-215:Assertion failed) !_img.empty() in function 'imwrite'\n"
          ]
        }
      ]
    },
    {
      "cell_type": "code",
      "source": [],
      "metadata": {
        "id": "VY3Dj9oA8kjR"
      },
      "execution_count": null,
      "outputs": []
    }
  ]
}