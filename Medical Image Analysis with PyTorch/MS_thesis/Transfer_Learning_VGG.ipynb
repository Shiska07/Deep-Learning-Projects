{
  "nbformat": 4,
  "nbformat_minor": 0,
  "metadata": {
    "colab": {
      "provenance": [],
      "gpuType": "T4"
    },
    "kernelspec": {
      "name": "python3",
      "display_name": "Python 3"
    },
    "language_info": {
      "name": "python"
    },
    "accelerator": "GPU"
  },
  "cells": [
    {
      "cell_type": "code",
      "execution_count": 1,
      "metadata": {
        "colab": {
          "base_uri": "https://localhost:8080/"
        },
        "id": "FytMzmPcyrW-",
        "outputId": "45b6265f-c58f-4ace-b64d-a37736596fe4"
      },
      "outputs": [
        {
          "output_type": "stream",
          "name": "stdout",
          "text": [
            "Drive already mounted at /content/drive; to attempt to forcibly remount, call drive.mount(\"/content/drive\", force_remount=True).\n"
          ]
        }
      ],
      "source": [
        "from google.colab import drive\n",
        "drive.mount('/content/drive')"
      ]
    },
    {
      "cell_type": "code",
      "source": [
        "import os\n",
        "import numpy as np\n",
        "import pandas as pd\n",
        "from PIL import Image\n",
        "import matplotlib.pyplot as plt\n",
        "%matplotlib inline"
      ],
      "metadata": {
        "id": "UY28a_bTzlIN"
      },
      "execution_count": 2,
      "outputs": []
    },
    {
      "cell_type": "code",
      "source": [
        "import torch\n",
        "import torch.nn as nn\n",
        "import torch.nn.functional as F\n",
        "import torchvision\n",
        "from torchvision import datasets, transforms, models\n",
        "from torchvision.io import read_image\n",
        "from torch.utils.data import DataLoader, Dataset, random_split\n",
        "torch.backends.cudnn.deterministic = True\n",
        "torch.backends.cudnn.benchmark = False"
      ],
      "metadata": {
        "id": "ZWjbL_OFvxTw"
      },
      "execution_count": 3,
      "outputs": []
    },
    {
      "cell_type": "code",
      "source": [
        "device = torch.device('cuda' if torch.cuda.is_available() else 'cpu')\n",
        "device"
      ],
      "metadata": {
        "colab": {
          "base_uri": "https://localhost:8080/"
        },
        "id": "XbNDDPvEzli8",
        "outputId": "4d1d4fe0-087a-4c31-bc78-237e02eb6bbf"
      },
      "execution_count": 4,
      "outputs": [
        {
          "output_type": "execute_result",
          "data": {
            "text/plain": [
              "device(type='cuda')"
            ]
          },
          "metadata": {},
          "execution_count": 4
        }
      ]
    },
    {
      "cell_type": "code",
      "source": [
        "# to store class name\n",
        "classes_dict = {}\n",
        "\n",
        "def create_class_name_dict():\n",
        "    classes_file = '/content/drive/MyDrive/Colab Notebooks/Data/CUB_200_2011/classes.txt'\n",
        "    try:\n",
        "        with open(classes_file, 'r') as file:\n",
        "            lines = file.read().splitlines()\n",
        "\n",
        "        for i, line in enumerate(lines):\n",
        "            class_label = line.split('.')[1]\n",
        "            classes_dict[i] = class_label\n",
        "\n",
        "    except FileNotFoundError:\n",
        "        print('File does not exist.\\n')\n",
        "        return None\n",
        "\n",
        "# create class dict\n",
        "create_class_name_dict()"
      ],
      "metadata": {
        "id": "idENkyR1p-2Z"
      },
      "execution_count": 5,
      "outputs": []
    },
    {
      "cell_type": "markdown",
      "source": [
        "### Data Loading and Augmentation"
      ],
      "metadata": {
        "id": "vkQinAz0rjzV"
      }
    },
    {
      "cell_type": "code",
      "source": [
        "from pyparsing.common import traceback\n",
        "\n",
        "def denormalize(tensor):\n",
        "    tensor = tensor*std + mean\n",
        "    return tensor\n",
        "\n",
        "def show_img(img):\n",
        "    # arrange channels\n",
        "    img = img.numpy().transpose((1,2,0))\n",
        "\n",
        "    # use mean and std values\n",
        "    img = denormalize(img)\n",
        "\n",
        "    # clip values and view image\n",
        "    img = np.clip(img,0,1)\n",
        "    plt.imshow(img)\n",
        "\n",
        "\n",
        "# returns data loader objects, resizing_factor is a size tuple\n",
        "def get_data_loader(img_dir_path, batch_size=64, shuffle=False, transform=None):\n",
        "\n",
        "    # create custom dataset object\n",
        "    dataset = torchvision.datasets.ImageFolder(img_dir_path, transform=transform)\n",
        "\n",
        "    # create dataloader objects\n",
        "    data_loader = DataLoader(dataset, batch_size=batch_size, shuffle=shuffle)\n",
        "\n",
        "    return data_loader\n"
      ],
      "metadata": {
        "id": "f2bd3T0nqgPs"
      },
      "execution_count": 11,
      "outputs": []
    },
    {
      "cell_type": "markdown",
      "source": [
        "### Define Custom Model Class"
      ],
      "metadata": {
        "id": "KnXnLRaTQcYM"
      }
    },
    {
      "cell_type": "code",
      "source": [
        "class ConvNet(nn.Module):\n",
        "    def __init__(self, pretrained_model_name, pretrained_model_path, num_classes):\n",
        "        super(ConvNet, self).__init__()\n",
        "\n",
        "        self.pretrained_model_name =  pretrained_model_name\n",
        "        self.pretrained_model_path = pretrained_model_path\n",
        "        self.num_classes = num_classes\n",
        "        self.in_feat = None\n",
        "        self.model = None\n",
        "\n",
        "        # check for GPU availability\n",
        "        use_gpu = torch.cuda.is_available()\n",
        "\n",
        "        # load model architectures without weight\n",
        "        if use_gpu:\n",
        "            self.model = getattr(models, self.pretrained_model_name)().cuda()\n",
        "        else:\n",
        "            self.model = getattr(models, self.pretrained_model_name)()\n",
        "\n",
        "        # load pre-trained weights\n",
        "        self.model.load_state_dict(torch.load(self.pretrained_model_path))\n",
        "\n",
        "        # get input dimension of the fc layer to be replaced and index of the last fc layer\n",
        "        self.in_feat = self.model.classifier[-1].in_features\n",
        "        fc_idx = len(self.model.classifier) - 1\n",
        "\n",
        "        custom_fc = nn.Sequential(nn.Linear(self.in_feat, 512),\n",
        "                    nn.ReLU(),\n",
        "                    nn.Dropout(0.5),\n",
        "                    nn.Linear(512, self.num_classes),\n",
        "                    nn.ReLU(),\n",
        "                    nn.Dropout(0.5),\n",
        "                    nn.LogSoftmax(dim=1))\n",
        "\n",
        "        # add custom fc layers to model\n",
        "        self.model.classifier[fc_idx] = custom_fc\n",
        "\n",
        "    def forward(self, x):\n",
        "        x = self.model(x)\n",
        "        return x"
      ],
      "metadata": {
        "id": "8T_G80i7Qfun"
      },
      "execution_count": 69,
      "outputs": []
    },
    {
      "cell_type": "markdown",
      "source": [
        "### Train and Validation Functions For Single Epoch"
      ],
      "metadata": {
        "id": "jYwRYG32a6zO"
      }
    },
    {
      "cell_type": "code",
      "source": [
        "from pyparsing.core import ParseExpression\n",
        "# training for single epoch\n",
        "def train(model, dataloader, criterion, optimizer, max_batch, device = 'cpu'):\n",
        "\n",
        "    # initalize variables to store loss and acc\n",
        "    tr_epoch_loss = 0.0\n",
        "    tr_epoch_corr = 0\n",
        "    total = 0\n",
        "\n",
        "    # send model to device and set to training model\n",
        "    model.to(device)\n",
        "    model.train()\n",
        "\n",
        "    for batch_no, (images, labels) in enumerate(dataloader):\n",
        "        images, labels = images.to(device), labels.to(device)\n",
        "        optimizer.zero_grad()\n",
        "        y_pred = model(images)\n",
        "        y_pred_labels = torch.argmax(torch.exp(y_pred), 1)\n",
        "        loss = criterion(y_pred, labels)\n",
        "        loss.backward()\n",
        "        optimizer.step()\n",
        "\n",
        "        tr_epoch_loss += loss.item()\n",
        "        total += labels.size(0)\n",
        "        tr_epoch_corr += (y_pred_labels == labels).sum().item()\n",
        "\n",
        "        if max_batch is not None:\n",
        "            if batch_no == max_batch:\n",
        "                break;\n",
        "\n",
        "    # return epoch loss and accuracy\n",
        "    return tr_epoch_loss, tr_epoch_corr/total\n",
        "\n",
        "def validate(model, dataloader, criterion, device = 'cpu'):\n",
        "\n",
        "    # initialize variables to store validation loss and acc\n",
        "    val_loss = 0.0\n",
        "    val_corr = 0\n",
        "    total = 0\n",
        "\n",
        "    model.to(device)\n",
        "    model.eval()\n",
        "\n",
        "    with torch.no_grad():\n",
        "        for images, labels in dataloader:\n",
        "            images, labels = images.to(device), labels.to(device)\n",
        "            y_pred = model(images)\n",
        "            y_pred_labels = torch.argmax(torch.exp(y_pred), 1)\n",
        "            loss = criterion(y_pred, labels)\n",
        "\n",
        "            val_loss += loss.item()\n",
        "            val_corr += (y_pred_labels == labels).sum().item()\n",
        "            total += labels.size(0)\n",
        "\n",
        "    # return validation loss and accuracy\n",
        "    return val_loss, val_corr/total\n",
        "\n",
        "def unfreeze_last_n_layers(model, layer_type, n):\n",
        "\n",
        "    n = n*2 # since weights and bias are included as separate\n",
        "\n",
        "    # for classifier layer\n",
        "    if layer_type == 'classifier':\n",
        "        total_layers = len(list(model.model.classifier.parameters()))\n",
        "\n",
        "        # invalid n\n",
        "        if n > total_layers:\n",
        "            print(f\"Warning: There are only {total_layers} layers in the model. Cannot unfreeze {n} layers.\")\n",
        "\n",
        "        # if n == 0 unfreeze all layers\n",
        "        elif n == 0:\n",
        "            for param in model.model.classifier.parameters():\n",
        "                param.requires_grad = True\n",
        "        else:\n",
        "            for i, param in enumerate(model.model.classifier.parameters()):\n",
        "                if i >= total_layers - n:\n",
        "                    param.requires_grad = True\n",
        "                else:\n",
        "                    param.requires_grad = False\n",
        "\n",
        "    # conv layers\n",
        "    elif layer_type == 'features':\n",
        "        total_layers = len(list(model.model.features.parameters()))\n",
        "\n",
        "        # invalid n\n",
        "        if n > total_layers:\n",
        "            print(f\"Warning: There are only {total_layers} layers in the model. Cannot unfreeze {n} layers.\")\n",
        "\n",
        "        # if n == 0 unfreeze all layers\n",
        "        elif n == 0:\n",
        "            for param in model.model.features.parameters():\n",
        "                param.requires_grad = True\n",
        "        else:\n",
        "            for i, param in enumerate(model.model.features.parameters()):\n",
        "                if i >= total_layers - n:\n",
        "                    param.requires_grad = True\n",
        "                else:\n",
        "                    pass\n",
        "\n",
        "# freezes all layers in the model\n",
        "def freeze_all_layers(model):\n",
        "    for param in model.model.parameters():\n",
        "        param.requires_grad = False\n",
        "\n",
        "\n",
        "# plot history\n",
        "def plot_history(history):\n",
        "    train_loss = history['train_loss']\n",
        "    val_loss = history['val_loss']\n",
        "    train_acc = history['train_acc']\n",
        "    val_acc = history['val_acc']\n",
        "\n",
        "    # Plot train_loss vs. val_loss\n",
        "    plt.figure(figsize=(12, 4))\n",
        "    plt.subplot(2, 1, 1)\n",
        "    plt.plot(train_loss, label='Train Loss', color='blue')\n",
        "    plt.plot(val_loss, label='Validation Loss', color='red')\n",
        "    plt.title('Training Vs Validation Loss')\n",
        "    plt.xlabel('Epochs')\n",
        "    plt.ylabel('Loss')\n",
        "    plt.legend()\n",
        "\n",
        "    # Plot train_acc vs. val_acc\n",
        "    plt.subplot(2, 1, 2)\n",
        "    plt.plot(train_acc, label='Train Accuracy', color='blue')\n",
        "    plt.plot(val_acc, label='Validation Accuracy', color='red')\n",
        "    plt.title('Training Vs Validation Accuracy')\n",
        "    plt.xlabel('Epochs')\n",
        "    plt.ylabel('Accuracy')\n",
        "    plt.legend()\n",
        "\n",
        "    # Adjust spacing between subplots\n",
        "    plt.tight_layout()\n"
      ],
      "metadata": {
        "id": "hYwOYD2UbB2A"
      },
      "execution_count": 101,
      "outputs": []
    },
    {
      "cell_type": "markdown",
      "source": [
        "### Training Iterations"
      ],
      "metadata": {
        "id": "ZfOAWwB20geX"
      }
    },
    {
      "cell_type": "code",
      "source": [
        "def train_model_fc_layers(model, train_data, validation_data, epochs, criterion, optimizer, max_batch):\n",
        "\n",
        "    # dict to store training progress\n",
        "    history = {'train_loss': [],\n",
        "               'val_loss': [],\n",
        "               'train_acc':[],\n",
        "               'val_acc':[]\n",
        "               }\n",
        "\n",
        "    # set device\n",
        "    device = torch.device('cuda' if torch.cuda.is_available() else 'cpu')\n",
        "\n",
        "    # turn off gradients for all layers except the fc layers\n",
        "    freeze_all_layers(model)\n",
        "    unfreeze_last_n_layers(model, 'classifier', 2)\n",
        "\n",
        "    for epoch in range(epochs):\n",
        "\n",
        "        # variables to store loss and acc values per epoch\n",
        "        tr_epoch_loss = 0\n",
        "        tr_epoch_acc = 0\n",
        "        val_epoch_loss = 0\n",
        "        val_epoch_acc = 0\n",
        "\n",
        "        # train model\n",
        "        tr_epoch_loss, tr_epoch_acc = train(model, train_data, criterion, optimizer, max_batch, device)\n",
        "        history['train_loss'].append(tr_epoch_loss)\n",
        "        history['train_acc'].append(tr_epoch_acc)\n",
        "\n",
        "        # evaluate model\n",
        "        val_epoch_loss, val_epoch_acc = validate(model, validation_data, criterion, device = 'cpu')\n",
        "        history['val_loss'].append(val_epoch_loss)\n",
        "        history['val_acc'].append(val_epoch_acc)\n",
        "\n",
        "    # return model and history\n",
        "    return model, history"
      ],
      "metadata": {
        "id": "uG9tOE940xfF"
      },
      "execution_count": 44,
      "outputs": []
    },
    {
      "cell_type": "code",
      "source": [
        "# define parameters that will remain constant\n",
        "num_classes = 200\n",
        "resizing_factor = (224, 224)  # specific to VGG\n",
        "\n",
        "# normalization paramteters for imagenet\n",
        "mean = [0.485, 0.456, 0.406]\n",
        "std = [0.229, 0.224, 0.225]\n",
        "\n",
        "# define transformers\n",
        "train_transform = transforms.Compose([\n",
        "        transforms.Resize(resizing_factor),\n",
        "        transforms.RandomHorizontalFlip(0.5),\n",
        "        transforms.RandomRotation(15),\n",
        "        transforms.RandomAffine(degrees = 10,\n",
        "                                translate = (0.2, 0.2), shear = 10),\n",
        "        transforms.ToTensor(),\n",
        "        transforms.Normalize(mean, std)])\n",
        "\n",
        "test_transform = transforms.Compose([transforms.Resize(resizing_factor),\n",
        "                                    transforms.ToTensor(),\n",
        "                                    transforms.Normalize(mean, std)])\n",
        "\n",
        "# define path to data\n",
        "train_path = '/content/drive/MyDrive/Colab Notebooks/Data/CUB_200_2011/train_test_cropped/train'\n",
        "test_path = '/content/drive/MyDrive/Colab Notebooks/Data/CUB_200_2011/train_test_cropped/test'\n",
        "train_loader = get_data_loader(train_path, 64, True, train_transform)\n",
        "test_loader = get_data_loader(test_path, 64, False, test_transform)"
      ],
      "metadata": {
        "id": "I7DebY3j98Vi"
      },
      "execution_count": 12,
      "outputs": []
    },
    {
      "cell_type": "markdown",
      "source": [],
      "metadata": {
        "id": "AtQXDY7-tjes"
      }
    },
    {
      "cell_type": "markdown",
      "source": [
        "### Transfer Learning using VGG pre-trained weights"
      ],
      "metadata": {
        "id": "0nwy2SNXJZTw"
      }
    },
    {
      "cell_type": "code",
      "source": [
        "vgg16_weights_path = '/content/drive/MyDrive/Colab Notebooks/pretrained_models/vgg16.pth'"
      ],
      "metadata": {
        "id": "v9SbLnG0064H"
      },
      "execution_count": 13,
      "outputs": []
    },
    {
      "cell_type": "code",
      "source": [
        "# create model\n",
        "vgg16_custom_model = ConvNet('vgg16', vgg16_weights_path, num_classes)"
      ],
      "metadata": {
        "id": "KAurqNQ9vCWY"
      },
      "execution_count": 70,
      "outputs": []
    },
    {
      "cell_type": "code",
      "source": [],
      "metadata": {
        "id": "0SjpbtLhfcN0"
      },
      "execution_count": null,
      "outputs": []
    }
  ]
}