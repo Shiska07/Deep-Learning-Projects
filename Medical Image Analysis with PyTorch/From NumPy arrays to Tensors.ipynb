{
 "cells": [
  {
   "cell_type": "code",
   "execution_count": 17,
   "id": "d119329a",
   "metadata": {},
   "outputs": [],
   "source": [
    "import numpy as np\n",
    "import pandas as pd\n",
    "import torch"
   ]
  },
  {
   "cell_type": "code",
   "execution_count": 18,
   "id": "b3f40a9d",
   "metadata": {},
   "outputs": [
    {
     "data": {
      "text/plain": [
       "'1.9.1+cpu'"
      ]
     },
     "execution_count": 18,
     "metadata": {},
     "output_type": "execute_result"
    }
   ],
   "source": [
    "torch.__version__"
   ]
  },
  {
   "cell_type": "code",
   "execution_count": 19,
   "id": "c75b2ae9",
   "metadata": {},
   "outputs": [],
   "source": [
    "arr = np.array(list(range(6)))"
   ]
  },
  {
   "cell_type": "code",
   "execution_count": 20,
   "id": "d91c4ebc",
   "metadata": {},
   "outputs": [
    {
     "data": {
      "text/plain": [
       "dtype('int32')"
      ]
     },
     "execution_count": 20,
     "metadata": {},
     "output_type": "execute_result"
    }
   ],
   "source": [
    "arr.dtype"
   ]
  },
  {
   "cell_type": "code",
   "execution_count": 21,
   "id": "d5f20125",
   "metadata": {},
   "outputs": [
    {
     "data": {
      "text/plain": [
       "numpy.ndarray"
      ]
     },
     "execution_count": 21,
     "metadata": {},
     "output_type": "execute_result"
    }
   ],
   "source": [
    "type(arr)"
   ]
  },
  {
   "cell_type": "markdown",
   "id": "7c058edd",
   "metadata": {},
   "source": [
    "### Converting to a tensor"
   ]
  },
  {
   "cell_type": "code",
   "execution_count": 22,
   "id": "f454b3d4",
   "metadata": {},
   "outputs": [
    {
     "data": {
      "text/plain": [
       "tensor([0, 1, 2, 3, 4, 5], dtype=torch.int32)"
      ]
     },
     "execution_count": 22,
     "metadata": {},
     "output_type": "execute_result"
    }
   ],
   "source": [
    "torch.from_numpy(arr)"
   ]
  },
  {
   "cell_type": "code",
   "execution_count": 23,
   "id": "71359b82",
   "metadata": {},
   "outputs": [
    {
     "data": {
      "text/plain": [
       "tensor([0, 1, 2, 3, 4, 5], dtype=torch.int32)"
      ]
     },
     "execution_count": 23,
     "metadata": {},
     "output_type": "execute_result"
    }
   ],
   "source": [
    "torch.as_tensor(arr)"
   ]
  },
  {
   "cell_type": "code",
   "execution_count": 24,
   "id": "ca76dff1",
   "metadata": {},
   "outputs": [
    {
     "data": {
      "text/plain": [
       "torch.int32"
      ]
     },
     "execution_count": 24,
     "metadata": {},
     "output_type": "execute_result"
    }
   ],
   "source": [
    "x = torch.as_tensor(arr)\n",
    "x.dtype"
   ]
  },
  {
   "cell_type": "code",
   "execution_count": 25,
   "id": "4383d9b8",
   "metadata": {},
   "outputs": [
    {
     "data": {
      "text/plain": [
       "array([[0.32615514, 0.14428352],\n",
       "       [0.25028259, 0.33979691]])"
      ]
     },
     "execution_count": 25,
     "metadata": {},
     "output_type": "execute_result"
    }
   ],
   "source": [
    "x2d = np.random.rand(2, 2)\n",
    "x2d"
   ]
  },
  {
   "cell_type": "code",
   "execution_count": 26,
   "id": "27576336",
   "metadata": {},
   "outputs": [
    {
     "data": {
      "text/plain": [
       "tensor([[0.3262, 0.1443],\n",
       "        [0.2503, 0.3398]], dtype=torch.float64)"
      ]
     },
     "execution_count": 26,
     "metadata": {},
     "output_type": "execute_result"
    }
   ],
   "source": [
    "torch.from_numpy(x2d)"
   ]
  },
  {
   "cell_type": "code",
   "execution_count": 27,
   "id": "529fcce8",
   "metadata": {},
   "outputs": [],
   "source": [
    "x2d_tensor = torch.from_numpy(x2d)"
   ]
  },
  {
   "cell_type": "markdown",
   "id": "92977f99",
   "metadata": {},
   "source": [
    "Note how if you change the original numpy array, the associated tensor also changes."
   ]
  },
  {
   "cell_type": "code",
   "execution_count": 29,
   "id": "5f702c68",
   "metadata": {},
   "outputs": [
    {
     "data": {
      "text/plain": [
       "array([[99.        ,  0.14428352],\n",
       "       [ 0.25028259,  0.33979691]])"
      ]
     },
     "execution_count": 29,
     "metadata": {},
     "output_type": "execute_result"
    }
   ],
   "source": [
    "x2d[0][0] = 99\n",
    "x2d"
   ]
  },
  {
   "cell_type": "code",
   "execution_count": 30,
   "id": "52e6a0fb",
   "metadata": {},
   "outputs": [
    {
     "data": {
      "text/plain": [
       "tensor([[99.0000,  0.1443],\n",
       "        [ 0.2503,  0.3398]], dtype=torch.float64)"
      ]
     },
     "execution_count": 30,
     "metadata": {},
     "output_type": "execute_result"
    }
   ],
   "source": [
    "x2d_tensor"
   ]
  },
  {
   "cell_type": "markdown",
   "id": "0b2fd11f",
   "metadata": {},
   "source": [
    "### To avoid this use 'torch.tensor' instead"
   ]
  },
  {
   "cell_type": "code",
   "execution_count": 31,
   "id": "87f33915",
   "metadata": {},
   "outputs": [
    {
     "data": {
      "text/plain": [
       "array([[0.25785228, 0.59902513, 0.42127665],\n",
       "       [0.87914926, 0.7526591 , 0.85254977],\n",
       "       [0.24338186, 0.31437408, 0.56519395]])"
      ]
     },
     "execution_count": 31,
     "metadata": {},
     "output_type": "execute_result"
    }
   ],
   "source": [
    "arr = np.random.rand(3,3)\n",
    "arr"
   ]
  },
  {
   "cell_type": "code",
   "execution_count": 32,
   "id": "d001cbb4",
   "metadata": {},
   "outputs": [
    {
     "data": {
      "text/plain": [
       "tensor([[0.2579, 0.5990, 0.4213],\n",
       "        [0.8791, 0.7527, 0.8525],\n",
       "        [0.2434, 0.3144, 0.5652]], dtype=torch.float64)"
      ]
     },
     "execution_count": 32,
     "metadata": {},
     "output_type": "execute_result"
    }
   ],
   "source": [
    "arr_tensor = torch.tensor(arr)\n",
    "arr_tensor"
   ]
  },
  {
   "cell_type": "code",
   "execution_count": null,
   "id": "71de87c8",
   "metadata": {},
   "outputs": [],
   "source": [
    "arr[0]"
   ]
  }
 ],
 "metadata": {
  "kernelspec": {
   "display_name": "Python [conda env:pytorch_env]",
   "language": "python",
   "name": "conda-env-pytorch_env-py"
  },
  "language_info": {
   "codemirror_mode": {
    "name": "ipython",
    "version": 3
   },
   "file_extension": ".py",
   "mimetype": "text/x-python",
   "name": "python",
   "nbconvert_exporter": "python",
   "pygments_lexer": "ipython3",
   "version": "3.8.0"
  }
 },
 "nbformat": 4,
 "nbformat_minor": 5
}
