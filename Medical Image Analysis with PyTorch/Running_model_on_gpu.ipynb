{
  "nbformat": 4,
  "nbformat_minor": 0,
  "metadata": {
    "colab": {
      "provenance": [],
      "gpuType": "T4"
    },
    "kernelspec": {
      "name": "python3",
      "display_name": "Python 3"
    },
    "language_info": {
      "name": "python"
    },
    "accelerator": "GPU"
  },
  "cells": [
    {
      "cell_type": "code",
      "execution_count": 146,
      "metadata": {
        "id": "Az5aVqb0S2sk"
      },
      "outputs": [],
      "source": [
        "import torch"
      ]
    },
    {
      "cell_type": "code",
      "source": [
        "torch.cuda.is_available()"
      ],
      "metadata": {
        "colab": {
          "base_uri": "https://localhost:8080/"
        },
        "id": "u5d2_Il3S8hv",
        "outputId": "6e09cca9-19bf-4455-da7d-406c2605c82e"
      },
      "execution_count": 147,
      "outputs": [
        {
          "output_type": "execute_result",
          "data": {
            "text/plain": [
              "True"
            ]
          },
          "metadata": {},
          "execution_count": 147
        }
      ]
    },
    {
      "cell_type": "code",
      "source": [
        "torch.cuda.get_device_name()"
      ],
      "metadata": {
        "colab": {
          "base_uri": "https://localhost:8080/",
          "height": 35
        },
        "id": "ec87QMQCTC0O",
        "outputId": "e41d3ef2-e4f2-47d7-9c08-9dfdf669d94b"
      },
      "execution_count": 148,
      "outputs": [
        {
          "output_type": "execute_result",
          "data": {
            "text/plain": [
              "'Tesla T4'"
            ],
            "application/vnd.google.colaboratory.intrinsic+json": {
              "type": "string"
            }
          },
          "metadata": {},
          "execution_count": 148
        }
      ]
    },
    {
      "cell_type": "code",
      "source": [
        "device = torch.device('cuda' if torch.cuda.is_available() else 'cpu')\n",
        "device"
      ],
      "metadata": {
        "colab": {
          "base_uri": "https://localhost:8080/"
        },
        "id": "kPsHhuc7THbY",
        "outputId": "c7521155-1d45-4f1b-f478-47cd7d1117df"
      },
      "execution_count": 149,
      "outputs": [
        {
          "output_type": "execute_result",
          "data": {
            "text/plain": [
              "device(type='cuda')"
            ]
          },
          "metadata": {},
          "execution_count": 149
        }
      ]
    },
    {
      "cell_type": "code",
      "source": [
        "# memory taken by GPU\n",
        "torch.cuda.memory_allocated()"
      ],
      "metadata": {
        "colab": {
          "base_uri": "https://localhost:8080/"
        },
        "id": "cm6hSqcLTWdO",
        "outputId": "175bdd93-1203-431b-aff2-4e38b75b82b1"
      },
      "execution_count": 150,
      "outputs": [
        {
          "output_type": "execute_result",
          "data": {
            "text/plain": [
              "12140544"
            ]
          },
          "metadata": {},
          "execution_count": 150
        }
      ]
    },
    {
      "cell_type": "code",
      "source": [
        "a = torch.Tensor([1, 2])\n",
        "a.device"
      ],
      "metadata": {
        "colab": {
          "base_uri": "https://localhost:8080/"
        },
        "id": "j9MYAd7rTiTW",
        "outputId": "a02b879c-9dbd-443f-d45a-6007826ed2f4"
      },
      "execution_count": 151,
      "outputs": [
        {
          "output_type": "execute_result",
          "data": {
            "text/plain": [
              "device(type='cpu')"
            ]
          },
          "metadata": {},
          "execution_count": 151
        }
      ]
    },
    {
      "cell_type": "code",
      "source": [
        "b = torch.Tensor([3, 4]).cuda()\n",
        "b.device"
      ],
      "metadata": {
        "colab": {
          "base_uri": "https://localhost:8080/"
        },
        "id": "_5a7bm-FUXXH",
        "outputId": "a2311e94-3e45-4bea-9cc6-dd408ca69621"
      },
      "execution_count": 152,
      "outputs": [
        {
          "output_type": "execute_result",
          "data": {
            "text/plain": [
              "device(type='cuda', index=0)"
            ]
          },
          "metadata": {},
          "execution_count": 152
        }
      ]
    },
    {
      "cell_type": "code",
      "source": [
        "# memory taken by GPU\n",
        "torch.cuda.memory_allocated()"
      ],
      "metadata": {
        "colab": {
          "base_uri": "https://localhost:8080/"
        },
        "id": "_-D71nyUUfaZ",
        "outputId": "ec19254f-3ee9-49c7-ccff-6b0dba3109fb"
      },
      "execution_count": 153,
      "outputs": [
        {
          "output_type": "execute_result",
          "data": {
            "text/plain": [
              "12141056"
            ]
          },
          "metadata": {},
          "execution_count": 153
        }
      ]
    },
    {
      "cell_type": "markdown",
      "source": [
        "### Sending Models to GPU"
      ],
      "metadata": {
        "id": "kRsTFLxkc3OC"
      }
    },
    {
      "cell_type": "code",
      "source": [
        "import torch\n",
        "import torch.nn as nn\n",
        "import torch.nn.functional as F\n",
        "from torch.utils.data import Dataset, DataLoader\n",
        "from sklearn.model_selection import train_test_split"
      ],
      "metadata": {
        "id": "N9-p9PIFUusN"
      },
      "execution_count": 154,
      "outputs": []
    },
    {
      "cell_type": "code",
      "source": [
        "import pandas as pd\n",
        "import matplotlib.pyplot as plt\n",
        "%matplotlib inline"
      ],
      "metadata": {
        "id": "am7RaVAwdMD5"
      },
      "execution_count": 155,
      "outputs": []
    },
    {
      "cell_type": "code",
      "source": [
        "class Model(nn.Module):\n",
        "    def __init__(self, in_features=8, h1=16, h2=9, out_features=1):\n",
        "        super().__init__()\n",
        "        self.fc1 = nn.Linear(in_features,h1)    # input layer\n",
        "        self.fc2 = nn.Linear(h1, h2)            # hidden layer\n",
        "        self.out = nn.Linear(h2, out_features)  # output layer\n",
        "\n",
        "    def forward(self, x):\n",
        "        x = F.relu(self.fc1(x))\n",
        "        x = F.relu(self.fc2(x))\n",
        "        x = F.relu(self.out(x))\n",
        "        return x"
      ],
      "metadata": {
        "id": "eABmDRKmdWbx"
      },
      "execution_count": 156,
      "outputs": []
    },
    {
      "cell_type": "code",
      "source": [
        "torch.manual_seed(42)\n",
        "model = Model()"
      ],
      "metadata": {
        "id": "b8D1QCh9dY-J"
      },
      "execution_count": 157,
      "outputs": []
    },
    {
      "cell_type": "code",
      "source": [
        "next(model.parameters()).is_cuda"
      ],
      "metadata": {
        "colab": {
          "base_uri": "https://localhost:8080/"
        },
        "id": "eW5eJkbgdcJR",
        "outputId": "c65bb99b-8410-48bc-998e-4731a0307c55"
      },
      "execution_count": 158,
      "outputs": [
        {
          "output_type": "execute_result",
          "data": {
            "text/plain": [
              "False"
            ]
          },
          "metadata": {},
          "execution_count": 158
        }
      ]
    },
    {
      "cell_type": "code",
      "source": [
        "model.to(device)"
      ],
      "metadata": {
        "colab": {
          "base_uri": "https://localhost:8080/"
        },
        "id": "rJfmwt97denR",
        "outputId": "d49a7232-b10f-411d-9f97-66efabf11acf"
      },
      "execution_count": 159,
      "outputs": [
        {
          "output_type": "execute_result",
          "data": {
            "text/plain": [
              "Model(\n",
              "  (fc1): Linear(in_features=8, out_features=16, bias=True)\n",
              "  (fc2): Linear(in_features=16, out_features=9, bias=True)\n",
              "  (out): Linear(in_features=9, out_features=1, bias=True)\n",
              ")"
            ]
          },
          "metadata": {},
          "execution_count": 159
        }
      ]
    },
    {
      "cell_type": "code",
      "source": [
        "## or you can also do\n",
        "model = model.cuda()"
      ],
      "metadata": {
        "id": "NjiZDX9mdyOa"
      },
      "execution_count": 160,
      "outputs": []
    },
    {
      "cell_type": "code",
      "source": [
        "next(model.parameters()).is_cuda"
      ],
      "metadata": {
        "colab": {
          "base_uri": "https://localhost:8080/"
        },
        "id": "0hdiHOkCdoRY",
        "outputId": "afc5dd8d-7e3f-4776-ebdb-4b972384a3be"
      },
      "execution_count": 161,
      "outputs": [
        {
          "output_type": "execute_result",
          "data": {
            "text/plain": [
              "True"
            ]
          },
          "metadata": {},
          "execution_count": 161
        }
      ]
    },
    {
      "cell_type": "code",
      "source": [
        "# reading custom dataset\n",
        "df = pd.read_csv('sample_data/california_housing_train.csv')"
      ],
      "metadata": {
        "id": "g87hHwtnd2CQ"
      },
      "execution_count": 162,
      "outputs": []
    },
    {
      "cell_type": "code",
      "source": [
        "df.info()"
      ],
      "metadata": {
        "colab": {
          "base_uri": "https://localhost:8080/"
        },
        "id": "MnYxqFaOfJVS",
        "outputId": "a92183d0-bab6-4224-a894-3a563a63e285"
      },
      "execution_count": 163,
      "outputs": [
        {
          "output_type": "stream",
          "name": "stdout",
          "text": [
            "<class 'pandas.core.frame.DataFrame'>\n",
            "RangeIndex: 17000 entries, 0 to 16999\n",
            "Data columns (total 9 columns):\n",
            " #   Column              Non-Null Count  Dtype  \n",
            "---  ------              --------------  -----  \n",
            " 0   longitude           17000 non-null  float64\n",
            " 1   latitude            17000 non-null  float64\n",
            " 2   housing_median_age  17000 non-null  float64\n",
            " 3   total_rooms         17000 non-null  float64\n",
            " 4   total_bedrooms      17000 non-null  float64\n",
            " 5   population          17000 non-null  float64\n",
            " 6   households          17000 non-null  float64\n",
            " 7   median_income       17000 non-null  float64\n",
            " 8   median_house_value  17000 non-null  float64\n",
            "dtypes: float64(9)\n",
            "memory usage: 1.2 MB\n"
          ]
        }
      ]
    },
    {
      "cell_type": "code",
      "source": [
        "X = df.drop('median_house_value', axis = 1).values\n",
        "type(X)"
      ],
      "metadata": {
        "colab": {
          "base_uri": "https://localhost:8080/"
        },
        "id": "hYcoRnC5fKwM",
        "outputId": "6d8c4c1d-ebdc-4b90-e06b-77f08326ddc5"
      },
      "execution_count": 164,
      "outputs": [
        {
          "output_type": "execute_result",
          "data": {
            "text/plain": [
              "numpy.ndarray"
            ]
          },
          "metadata": {},
          "execution_count": 164
        }
      ]
    },
    {
      "cell_type": "code",
      "source": [
        "X.shape"
      ],
      "metadata": {
        "colab": {
          "base_uri": "https://localhost:8080/"
        },
        "id": "fCn3as9WfqJ4",
        "outputId": "e387c4d5-c0da-4d5b-90df-2d7be390649e"
      },
      "execution_count": 165,
      "outputs": [
        {
          "output_type": "execute_result",
          "data": {
            "text/plain": [
              "(17000, 8)"
            ]
          },
          "metadata": {},
          "execution_count": 165
        }
      ]
    },
    {
      "cell_type": "code",
      "source": [
        "y = df['median_house_value'].values"
      ],
      "metadata": {
        "id": "2QUrl4GkgWgY"
      },
      "execution_count": 166,
      "outputs": []
    },
    {
      "cell_type": "code",
      "source": [
        "X_train, X_test, y_train, y_test = train_test_split(X,y,test_size = 0.3)"
      ],
      "metadata": {
        "id": "eTGw6SeogcDA"
      },
      "execution_count": 167,
      "outputs": []
    },
    {
      "cell_type": "code",
      "source": [
        "# send data to gpu\n",
        "X_train = torch.FloatTensor(X_train).cuda()\n",
        "X_test = torch.FloatTensor(X_test).cuda()\n",
        "y_train = torch.FloatTensor(y_train).cuda()\n",
        "y_test = torch.FloatTensor(y_test).cuda()"
      ],
      "metadata": {
        "id": "QipYxFovgopQ"
      },
      "execution_count": 168,
      "outputs": []
    },
    {
      "cell_type": "code",
      "source": [
        "criterion = nn.MSELoss()\n",
        "optimizer = torch.optim.Adam(model.parameters(), lr = 0.01)"
      ],
      "metadata": {
        "id": "o1NChMhWjYH5"
      },
      "execution_count": 169,
      "outputs": []
    },
    {
      "cell_type": "code",
      "source": [
        "import time\n",
        "start = time.time()\n",
        "epochs = 1000\n",
        "losses = []\n",
        "\n",
        "for i in range(epochs):\n",
        "\n",
        "  y_pred = model.forward(X_train)\n",
        "  loss = torch.sqrt(criterion(y_pred, y_train))\n",
        "  losses.append(loss)\n",
        "\n",
        "  # a neat trick to save screen space:\n",
        "  if i%10 == 1:\n",
        "      print(f'epoch: {i:2}  loss: {loss.item():10.8f}')\n",
        "\n",
        "  optimizer.zero_grad()\n",
        "  loss.backward()\n",
        "  optimizer.step()\n",
        "\n",
        "print(f'TOTAL TRAINING TIME: {time.time()-start}')"
      ],
      "metadata": {
        "colab": {
          "base_uri": "https://localhost:8080/"
        },
        "id": "sYoSCmoOjyUI",
        "outputId": "9a6eb4aa-4248-40d8-da24-cfe9d3ea56c9"
      },
      "execution_count": 171,
      "outputs": [
        {
          "output_type": "stream",
          "name": "stdout",
          "text": [
            "epoch:  1  loss: 169340.37500000\n",
            "epoch: 11  loss: 168985.64062500\n",
            "epoch: 21  loss: 168433.76562500\n",
            "epoch: 31  loss: 167948.46875000\n",
            "epoch: 41  loss: 167382.35937500\n",
            "epoch: 51  loss: 166789.43750000\n",
            "epoch: 61  loss: 166154.85937500\n",
            "epoch: 71  loss: 165454.82812500\n",
            "epoch: 81  loss: 164687.79687500\n",
            "epoch: 91  loss: 163836.78125000\n",
            "epoch: 101  loss: 162882.90625000\n",
            "epoch: 111  loss: 161802.37500000\n",
            "epoch: 121  loss: 160563.78125000\n",
            "epoch: 131  loss: 159129.56250000\n",
            "epoch: 141  loss: 157485.56250000\n",
            "epoch: 151  loss: 155590.56250000\n",
            "epoch: 161  loss: 153514.53125000\n",
            "epoch: 171  loss: 151114.71875000\n",
            "epoch: 181  loss: 148365.40625000\n",
            "epoch: 191  loss: 145193.01562500\n",
            "epoch: 201  loss: 141588.40625000\n",
            "epoch: 211  loss: 137661.14062500\n",
            "epoch: 221  loss: 133411.21875000\n",
            "epoch: 231  loss: 129112.39843750\n",
            "epoch: 241  loss: 125046.50000000\n",
            "epoch: 251  loss: 121559.07031250\n",
            "epoch: 261  loss: 119002.25000000\n",
            "epoch: 271  loss: 117400.32812500\n",
            "epoch: 281  loss: 116618.73437500\n",
            "epoch: 291  loss: 116307.16406250\n",
            "epoch: 301  loss: 116213.99218750\n",
            "epoch: 311  loss: 116188.01562500\n",
            "epoch: 321  loss: 116175.82031250\n",
            "epoch: 331  loss: 116164.25000000\n",
            "epoch: 341  loss: 116153.14843750\n",
            "epoch: 351  loss: 116143.00781250\n",
            "epoch: 361  loss: 116133.56250000\n",
            "epoch: 371  loss: 116124.52343750\n",
            "epoch: 381  loss: 116115.75000000\n",
            "epoch: 391  loss: 116107.17968750\n",
            "epoch: 401  loss: 116098.82812500\n",
            "epoch: 411  loss: 116090.64843750\n",
            "epoch: 421  loss: 116082.60156250\n",
            "epoch: 431  loss: 116074.65625000\n",
            "epoch: 441  loss: 116066.77343750\n",
            "epoch: 451  loss: 116058.91406250\n",
            "epoch: 461  loss: 116050.99218750\n",
            "epoch: 471  loss: 116042.83593750\n",
            "epoch: 481  loss: 116033.99218750\n",
            "epoch: 491  loss: 116024.02343750\n",
            "epoch: 501  loss: 116012.94531250\n",
            "epoch: 511  loss: 116001.10156250\n",
            "epoch: 521  loss: 115989.47656250\n",
            "epoch: 531  loss: 115979.00000000\n",
            "epoch: 541  loss: 115969.89062500\n",
            "epoch: 551  loss: 115961.88281250\n",
            "epoch: 561  loss: 115954.59375000\n",
            "epoch: 571  loss: 115947.75781250\n",
            "epoch: 581  loss: 115941.18750000\n",
            "epoch: 591  loss: 115934.78125000\n",
            "epoch: 601  loss: 115928.46875000\n",
            "epoch: 611  loss: 115922.21875000\n",
            "epoch: 621  loss: 115916.01562500\n",
            "epoch: 631  loss: 115909.85156250\n",
            "epoch: 641  loss: 115903.71093750\n",
            "epoch: 651  loss: 115897.57812500\n",
            "epoch: 661  loss: 115891.42968750\n",
            "epoch: 671  loss: 115885.23437500\n",
            "epoch: 681  loss: 115879.10156250\n",
            "epoch: 691  loss: 115873.02343750\n",
            "epoch: 701  loss: 115867.00781250\n",
            "epoch: 711  loss: 115861.05468750\n",
            "epoch: 721  loss: 115855.17968750\n",
            "epoch: 731  loss: 115849.37500000\n",
            "epoch: 741  loss: 115843.64843750\n",
            "epoch: 751  loss: 115837.94531250\n",
            "epoch: 761  loss: 115832.32812500\n",
            "epoch: 771  loss: 115826.95312500\n",
            "epoch: 781  loss: 115821.09375000\n",
            "epoch: 791  loss: 115815.76562500\n",
            "epoch: 801  loss: 115810.42187500\n",
            "epoch: 811  loss: 115804.97656250\n",
            "epoch: 821  loss: 115799.43750000\n",
            "epoch: 831  loss: 115794.28125000\n",
            "epoch: 841  loss: 115789.18750000\n",
            "epoch: 851  loss: 115783.58593750\n",
            "epoch: 861  loss: 115778.75781250\n",
            "epoch: 871  loss: 115773.38281250\n",
            "epoch: 881  loss: 115768.31250000\n",
            "epoch: 891  loss: 115763.72656250\n",
            "epoch: 901  loss: 115758.94531250\n",
            "epoch: 911  loss: 115753.66406250\n",
            "epoch: 921  loss: 115748.85937500\n",
            "epoch: 931  loss: 115744.14843750\n",
            "epoch: 941  loss: 115739.50000000\n",
            "epoch: 951  loss: 115734.90625000\n",
            "epoch: 961  loss: 115730.73437500\n",
            "epoch: 971  loss: 115726.41406250\n",
            "epoch: 981  loss: 115721.74218750\n",
            "epoch: 991  loss: 115717.11718750\n",
            "TOTAL TRAINING TIME: 12.312356233596802\n"
          ]
        }
      ]
    },
    {
      "cell_type": "code",
      "source": [],
      "metadata": {
        "id": "y7hnZBcpkMmB"
      },
      "execution_count": 170,
      "outputs": []
    }
  ]
}