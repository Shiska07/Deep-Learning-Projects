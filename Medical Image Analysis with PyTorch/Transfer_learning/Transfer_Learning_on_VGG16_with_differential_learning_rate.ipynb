{
  "nbformat": 4,
  "nbformat_minor": 0,
  "metadata": {
    "colab": {
      "provenance": [],
      "gpuType": "T4"
    },
    "kernelspec": {
      "name": "python3",
      "display_name": "Python 3"
    },
    "language_info": {
      "name": "python"
    },
    "accelerator": "GPU"
  },
  "cells": [
    {
      "cell_type": "code",
      "execution_count": 15,
      "metadata": {
        "id": "TZEMN5GnehuL"
      },
      "outputs": [],
      "source": [
        "import torch\n",
        "torch.manual_seed(0)\n",
        "torch.backends.cudnn.deterministic = True\n",
        "torch.backends.cudnn.benchmark = False"
      ]
    },
    {
      "cell_type": "code",
      "source": [
        "import torch.nn as nn\n",
        "import torch.nn.functional as F\n",
        "from torchvision import datasets, transforms, models\n",
        "from torch.utils.data import DataLoader"
      ],
      "metadata": {
        "id": "xLUUbU5UesKs"
      },
      "execution_count": 16,
      "outputs": []
    },
    {
      "cell_type": "code",
      "source": [
        "device = torch.device('cuda' if torch.cuda.is_available() else 'cpu')\n",
        "device"
      ],
      "metadata": {
        "colab": {
          "base_uri": "https://localhost:8080/"
        },
        "id": "kcDBbb1fezh6",
        "outputId": "f07633a7-2ac6-4249-e8ca-380baa392e0a"
      },
      "execution_count": 17,
      "outputs": [
        {
          "output_type": "execute_result",
          "data": {
            "text/plain": [
              "device(type='cuda')"
            ]
          },
          "metadata": {},
          "execution_count": 17
        }
      ]
    },
    {
      "cell_type": "code",
      "source": [
        "# get mean and std for each channel\n",
        "mean = [0.485, 0.456, 0.406]\n",
        "std = [0.229, 0.224, 0.225]\n",
        "\n",
        "# intialize transformer\n",
        "transform = transforms.Compose([\n",
        "    transforms.Resize((224, 224)),\n",
        "    transforms.ToTensor(),\n",
        "    transforms.Normalize(mean=mean, std=std)\n",
        "    ])\n",
        "\n",
        "# load and transform data\n",
        "train = datasets.CIFAR10(root='~/.pytorch/CIFAR10',train=True, download=True,transform=transform)\n",
        "test = datasets.CIFAR10(root='~/.pytorch/CIFAR10',train=False, transform=transform)\n",
        "\n",
        "train_loader = DataLoader(train, batch_size=64, shuffle=True)\n",
        "test_loader = DataLoader(test, batch_size=64, shuffle=False)"
      ],
      "metadata": {
        "colab": {
          "base_uri": "https://localhost:8080/"
        },
        "id": "UuSIxPE6e08a",
        "outputId": "c036ede4-f265-4ec5-9720-85b336bc9b16"
      },
      "execution_count": 18,
      "outputs": [
        {
          "output_type": "stream",
          "name": "stdout",
          "text": [
            "Files already downloaded and verified\n"
          ]
        }
      ]
    },
    {
      "cell_type": "code",
      "source": [
        "# load model\n",
        "model = models.vgg16(pretrained=True)\n",
        "model.classifier"
      ],
      "metadata": {
        "colab": {
          "base_uri": "https://localhost:8080/"
        },
        "id": "bdze6O_ce4ry",
        "outputId": "eb19df8e-51e5-490b-a382-0e67acb07823"
      },
      "execution_count": 19,
      "outputs": [
        {
          "output_type": "stream",
          "name": "stderr",
          "text": [
            "/usr/local/lib/python3.10/dist-packages/torchvision/models/_utils.py:208: UserWarning: The parameter 'pretrained' is deprecated since 0.13 and may be removed in the future, please use 'weights' instead.\n",
            "  warnings.warn(\n",
            "/usr/local/lib/python3.10/dist-packages/torchvision/models/_utils.py:223: UserWarning: Arguments other than a weight enum or `None` for 'weights' are deprecated since 0.13 and may be removed in the future. The current behavior is equivalent to passing `weights=VGG16_Weights.IMAGENET1K_V1`. You can also use `weights=VGG16_Weights.DEFAULT` to get the most up-to-date weights.\n",
            "  warnings.warn(msg)\n"
          ]
        },
        {
          "output_type": "execute_result",
          "data": {
            "text/plain": [
              "Sequential(\n",
              "  (0): Linear(in_features=25088, out_features=4096, bias=True)\n",
              "  (1): ReLU(inplace=True)\n",
              "  (2): Dropout(p=0.5, inplace=False)\n",
              "  (3): Linear(in_features=4096, out_features=4096, bias=True)\n",
              "  (4): ReLU(inplace=True)\n",
              "  (5): Dropout(p=0.5, inplace=False)\n",
              "  (6): Linear(in_features=4096, out_features=1000, bias=True)\n",
              ")"
            ]
          },
          "metadata": {},
          "execution_count": 19
        }
      ]
    },
    {
      "cell_type": "code",
      "source": [
        "# free layers\n",
        "for param in model.parameters():\n",
        "  param.requires_grad = False"
      ],
      "metadata": {
        "id": "GKnWFzQ6e6hi"
      },
      "execution_count": 20,
      "outputs": []
    },
    {
      "cell_type": "code",
      "source": [
        "# unfrezze fc classifier layers\n",
        "for i in range(0,7):\n",
        "  model.classifier[i].requires_grad = True"
      ],
      "metadata": {
        "id": "pXGnIiyVe80p"
      },
      "execution_count": 21,
      "outputs": []
    },
    {
      "cell_type": "code",
      "source": [
        "# modify last fc layer\n",
        "model.classifier[6] = nn.Sequential(\n",
        "                      nn.Linear(4096,512),\n",
        "                      nn.ReLU(),\n",
        "                      nn.Dropout(0.5),\n",
        "                      nn.Linear(512,10),\n",
        "                      nn.LogSoftmax(dim=1)\n",
        "                      )"
      ],
      "metadata": {
        "id": "9eh2WUfPfA8i"
      },
      "execution_count": 22,
      "outputs": []
    },
    {
      "cell_type": "code",
      "source": [
        "# unfreeze last two Conv layers\n",
        "for i in range(17,24):\n",
        "  model.features[i].requires_grad = True"
      ],
      "metadata": {
        "id": "rnMn_KXNfCOS"
      },
      "execution_count": 23,
      "outputs": []
    },
    {
      "cell_type": "code",
      "source": [
        "# define learning rate, optimizer and loss\n",
        "from torch.optim import Adam\n",
        "\n",
        "criterion = nn.NLLLoss()\n",
        "\n",
        "lr = 3e-4\n",
        "optimizer = Adam([\n",
        "    { 'params': model.features[17].parameters(), 'lr': lr/9},\n",
        "    { 'params': model.features[19].parameters(), 'lr': lr/9},\n",
        "    { 'params': model.features[21].parameters(), 'lr': lr/9},\n",
        "    { 'params': model.features[24].parameters(), 'lr': lr/3},\n",
        "    { 'params': model.features[26].parameters(), 'lr': lr/3},\n",
        "    { 'params': model.features[28].parameters(), 'lr': lr/3},\n",
        "    { 'params': model.classifier[0].parameters(), 'lr': lr},\n",
        "    { 'params': model.classifier[3].parameters(), 'lr': lr},\n",
        "    { 'params': model.classifier[6].parameters(), 'lr': lr}\n",
        "    ], lr=lr)"
      ],
      "metadata": {
        "id": "P2I4Ds4ifNNZ"
      },
      "execution_count": 24,
      "outputs": []
    },
    {
      "cell_type": "code",
      "source": [
        "model = model.to(device)\n",
        "\n",
        "epochs = 2\n",
        "batch_loss = 0\n",
        "cum_epoch_loss = 0\n",
        "\n",
        "for i in range(epochs):\n",
        "  cum_epoch_loss = 0\n",
        "\n",
        "  for batch_n, (X_train, y_train) in enumerate(train_loader,1):\n",
        "    X_train = X_train.to(device)\n",
        "    y_train = y_train.to(device)\n",
        "\n",
        "    optimizer.zero_grad()\n",
        "    y_pred = model(X_train)\n",
        "    loss = criterion(y_pred, y_train)\n",
        "    loss.backward()\n",
        "    optimizer.step()\n",
        "\n",
        "    batch_loss += loss.item()\n",
        "    if batch_n%100 == 0:\n",
        "      print(f'Epoch({i+1}/{epochs}) : Batch no ({batch_n}/{len(train_loader)}) : Batch loss : {loss.item()}')\n",
        "\n",
        "  print(f'Training loss : {batch_loss/len(train_loader)}')"
      ],
      "metadata": {
        "colab": {
          "base_uri": "https://localhost:8080/"
        },
        "id": "t75uOVeJfffr",
        "outputId": "5e161a0a-ce56-43fa-bd9c-4f85063d0769"
      },
      "execution_count": 27,
      "outputs": [
        {
          "output_type": "stream",
          "name": "stdout",
          "text": [
            "Epoch(1/2) : Batch no (100/782) : Batch loss : 0.41212284564971924\n",
            "Epoch(1/2) : Batch no (200/782) : Batch loss : 0.554536759853363\n",
            "Epoch(1/2) : Batch no (300/782) : Batch loss : 0.5204486846923828\n",
            "Epoch(1/2) : Batch no (400/782) : Batch loss : 0.49545422196388245\n",
            "Epoch(1/2) : Batch no (500/782) : Batch loss : 0.3772347867488861\n",
            "Epoch(1/2) : Batch no (600/782) : Batch loss : 0.3602065145969391\n",
            "Epoch(1/2) : Batch no (700/782) : Batch loss : 0.28151190280914307\n",
            "Training loss : 0.43393160589515706\n",
            "Epoch(2/2) : Batch no (100/782) : Batch loss : 0.29285600781440735\n",
            "Epoch(2/2) : Batch no (200/782) : Batch loss : 0.39718085527420044\n",
            "Epoch(2/2) : Batch no (300/782) : Batch loss : 0.326334685087204\n",
            "Epoch(2/2) : Batch no (400/782) : Batch loss : 0.22797878086566925\n",
            "Epoch(2/2) : Batch no (500/782) : Batch loss : 0.41721826791763306\n",
            "Epoch(2/2) : Batch no (600/782) : Batch loss : 0.2267834097146988\n",
            "Epoch(2/2) : Batch no (700/782) : Batch loss : 0.4046380817890167\n",
            "Training loss : 0.8046493748264849\n"
          ]
        }
      ]
    },
    {
      "cell_type": "markdown",
      "source": [
        "### Get Test Accuracy"
      ],
      "metadata": {
        "id": "91isWMkAgYAN"
      }
    },
    {
      "cell_type": "code",
      "source": [
        "model.to('cpu')\n",
        "\n",
        "model.eval()\n",
        "with torch.no_grad():\n",
        "    num_correct = 0\n",
        "    total = 0\n",
        "\n",
        "    #set_trace()\n",
        "    for batch_n, (X_test, y_test) in enumerate(test_loader,1):\n",
        "\n",
        "        y_pred = model(X_test)\n",
        "        sfmax = torch.exp(y_pred)\n",
        "\n",
        "        y_pred_class = torch.argmax(sfmax, 1)\n",
        "        total += y_test.size(0)\n",
        "        num_correct += (y_pred_class == y_test).sum().item()\n",
        "        print(f'Batch ({batch_n}/{len(test_loader)})')\n",
        "\n",
        "        if batch_n == 5:\n",
        "          break\n",
        "\n",
        "    print(f'Accuracy of the model on {total} test images: {num_correct * 100 / total}% ')"
      ],
      "metadata": {
        "colab": {
          "base_uri": "https://localhost:8080/"
        },
        "id": "04aphdbUgTm8",
        "outputId": "38184ed7-d6ce-46e1-c688-c291d6126960"
      },
      "execution_count": 28,
      "outputs": [
        {
          "output_type": "stream",
          "name": "stdout",
          "text": [
            "Batch (1/157)\n",
            "Batch (2/157)\n",
            "Batch (3/157)\n",
            "Batch (4/157)\n",
            "Batch (5/157)\n",
            "Accuracy of the model on 320 test images: 83.125% \n"
          ]
        }
      ]
    },
    {
      "cell_type": "code",
      "source": [],
      "metadata": {
        "id": "g2pvV4wBgmHx"
      },
      "execution_count": 26,
      "outputs": []
    }
  ]
}