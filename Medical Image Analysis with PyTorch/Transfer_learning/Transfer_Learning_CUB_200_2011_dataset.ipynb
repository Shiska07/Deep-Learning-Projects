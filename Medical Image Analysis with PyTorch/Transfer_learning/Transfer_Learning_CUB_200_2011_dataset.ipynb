{
  "nbformat": 4,
  "nbformat_minor": 0,
  "metadata": {
    "colab": {
      "provenance": []
    },
    "kernelspec": {
      "name": "python3",
      "display_name": "Python 3"
    },
    "language_info": {
      "name": "python"
    }
  },
  "cells": [
    {
      "cell_type": "code",
      "execution_count": 1,
      "metadata": {
        "colab": {
          "base_uri": "https://localhost:8080/"
        },
        "id": "FytMzmPcyrW-",
        "outputId": "f831f2a8-deba-44b7-967a-bd26e73813d1"
      },
      "outputs": [
        {
          "output_type": "stream",
          "name": "stdout",
          "text": [
            "Drive already mounted at /content/drive; to attempt to forcibly remount, call drive.mount(\"/content/drive\", force_remount=True).\n"
          ]
        }
      ],
      "source": [
        "from google.colab import drive\n",
        "drive.mount('/content/drive')"
      ]
    },
    {
      "cell_type": "code",
      "source": [
        "import numpy as np\n",
        "import pandas as pd\n",
        "import matplotlib.pyplot as plt\n",
        "%matplotlib inline"
      ],
      "metadata": {
        "id": "4tSxTEx2zNh1"
      },
      "execution_count": 3,
      "outputs": []
    },
    {
      "cell_type": "code",
      "source": [
        "import torch\n",
        "torch.backends.cudnn.deterministic = True\n",
        "torch.backends.cudnn.benchmark = False"
      ],
      "metadata": {
        "id": "XNs9YYUDzaoO"
      },
      "execution_count": 4,
      "outputs": []
    },
    {
      "cell_type": "code",
      "source": [
        "import torch.nn as nn\n",
        "import torch.nn.functional as F\n",
        "from torchvision import datasets, transforms, models\n",
        "from torchvision.io import read_image\n",
        "from torch.utils.data import DataLoader, Dataset"
      ],
      "metadata": {
        "id": "UY28a_bTzlIN"
      },
      "execution_count": 9,
      "outputs": []
    },
    {
      "cell_type": "code",
      "source": [
        "device = torch.device('cuda' if torch.cuda.is_available() else 'cpu')\n",
        "device"
      ],
      "metadata": {
        "colab": {
          "base_uri": "https://localhost:8080/"
        },
        "id": "XbNDDPvEzli8",
        "outputId": "295d1e98-5e67-4676-9836-414c3efe560c"
      },
      "execution_count": 6,
      "outputs": [
        {
          "output_type": "execute_result",
          "data": {
            "text/plain": [
              "device(type='cpu')"
            ]
          },
          "metadata": {},
          "execution_count": 6
        }
      ]
    },
    {
      "cell_type": "code",
      "source": [
        "# read data from .tgz file for Birds-200-2011\n",
        "import os\n",
        "import tarfile\n",
        "\n",
        "path_to_data_folder = '/content/drive/MyDrive/MS_thesis/Birds-200-2011/CUB_200_2011.tgz'\n",
        "\n",
        "# extract .tgz file\n",
        "with tarfile.open(path_to_data_folder, 'r:gz') as tar:\n",
        "    tar.extractall()\n",
        "\n",
        "data_dir = 'CUB_200_2011'"
      ],
      "metadata": {
        "id": "sGVFJFNKzpE0"
      },
      "execution_count": 11,
      "outputs": []
    },
    {
      "cell_type": "code",
      "source": [
        "# custom dataset class\n",
        "class CustomDataset(Dataset):\n",
        "    def __init__(self, data_dir, transform=None):\n",
        "        self.data_dir = data_dir\n",
        "        self.transform = transform\n",
        "        self.file_list = os.listdir(data_dir)\n",
        "\n",
        "    def __len__(self):\n",
        "        return len(self.file_list)\n",
        "\n",
        "    def __getitem__(self, idx):\n",
        "        img_name = os.path.join(self.data_dir, self.file_list[idx])\n",
        "        image = read_image(img_name)\n",
        "\n",
        "        if self.transform:\n",
        "            image = self.transform(image)\n",
        "\n",
        "        return image"
      ],
      "metadata": {
        "id": "gzzW4IOY1HbG"
      },
      "execution_count": 13,
      "outputs": []
    },
    {
      "cell_type": "code",
      "source": [
        "# define data transformer\n",
        "\n",
        "# resizing factor depends on the pre-trained model\n",
        "resizing_factor = 64\n",
        "\n",
        "# these are the parameters for models trained on the ImageNet Dataset\n",
        "mean = [0.485, 0.456, 0.406]\n",
        "std = [0.229, 0.224, 0.225]\n",
        "transform = transforms.Compose([transforms.Resize((64, 64)),\n",
        "                                transforms.ToTensor(),\n",
        "                                transforms.Normalize(mean, std)])"
      ],
      "metadata": {
        "id": "3XGQA-qS5Q2c"
      },
      "execution_count": null,
      "outputs": []
    }
  ]
}