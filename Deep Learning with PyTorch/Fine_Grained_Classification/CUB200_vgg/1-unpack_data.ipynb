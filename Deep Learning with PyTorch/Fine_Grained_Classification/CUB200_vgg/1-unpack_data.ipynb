{
 "cells": [
  {
   "cell_type": "code",
   "execution_count": null,
   "metadata": {
    "id": "PA42cKKyrpsE"
   },
   "outputs": [],
   "source": [
    "'''\n",
    "This script is used to unpack the CUB_200_2011.tgz file and create folder with all images and the annotation files.\n",
    "'''\n",
    "import os\n",
    "import shutil\n",
    "import tarfile\n",
    "import numpy as np\n",
    "import pandas as pd"
   ]
  },
  {
   "cell_type": "code",
   "execution_count": null,
   "metadata": {
    "colab": {
     "base_uri": "https://localhost:8080/"
    },
    "executionInfo": {
     "elapsed": 17348,
     "status": "ok",
     "timestamp": 1696355952077,
     "user": {
      "displayName": "Shiska Raut",
      "userId": "09726644257059784788"
     },
     "user_tz": 300
    },
    "id": "GnnuN01ysTvN",
    "outputId": "4c0d8b7f-5b29-4cea-c047-b532f3f139bd"
   },
   "outputs": [
    {
     "name": "stdout",
     "output_type": "stream",
     "text": [
      "Mounted at /content/drive\n"
     ]
    }
   ],
   "source": [
    "from google.colab import drive\n",
    "drive.mount('/content/drive')"
   ]
  },
  {
   "cell_type": "code",
   "execution_count": null,
   "metadata": {
    "id": "wkO5S7G8r71H"
   },
   "outputs": [],
   "source": [
    "def CUB_200_2011_unpack(tgz_file_path):\n",
    "    with tarfile.open(tgz_file_path, 'r:gz') as tar:\n",
    "        tar.extractall()\n",
    "\n",
    "\n",
    "# given .txt files containing image names and labels, creates an annotations .csv file\n",
    "def create_labels_file():\n",
    "\n",
    "    annotations_path = '/content/drive/MyDrive/Colab Notebooks/Data/CUB_200_2011/image_labels.csv'\n",
    "    data_dir = '/content/drive/MyDrive/Colab Notebooks/Data/CUB_200_2011'\n",
    "\n",
    "    img_dir = '/content/drive/MyDrive/Colab Notebooks/Data/CUB_200_2011/images'\n",
    "    img_names_file = '/content/drive/MyDrive/Colab Notebooks/Data/CUB_200_2011/images.txt'\n",
    "    labels_file = '/content/drive/MyDrive/Colab Notebooks/Data/CUB_200_2011/image_class_labels.txt'\n",
    "\n",
    "    # read class labels\n",
    "    labels_df = pd.read_csv(labels_file, delim_whitespace=True, index_col=False, header=None)\n",
    "    labels_ser = labels_df[1]\n",
    "\n",
    "    # read image names\n",
    "    img_df = pd.read_csv(img_names_file, delim_whitespace = True, index_col=False, header=None)\n",
    "    img_ser = img_df.iloc[:,1]\n",
    "\n",
    "    # create new df formatted as image_name, class_label\n",
    "    df = pd.concat([img_ser, labels_ser], axis=1)\n",
    "    df.to_csv(annotations_path, sep =',', index=False, header=False)\n",
    "\n",
    "    return annotations_path"
   ]
  },
  {
   "cell_type": "code",
   "execution_count": null,
   "metadata": {
    "colab": {
     "base_uri": "https://localhost:8080/",
     "height": 35
    },
    "executionInfo": {
     "elapsed": 10,
     "status": "ok",
     "timestamp": 1696356502847,
     "user": {
      "displayName": "Shiska Raut",
      "userId": "09726644257059784788"
     },
     "user_tz": 300
    },
    "id": "uBFfa68xsSHJ",
    "outputId": "3ea84027-f383-4e0b-bc12-8f97a5818702"
   },
   "outputs": [
    {
     "data": {
      "application/vnd.google.colaboratory.intrinsic+json": {
       "type": "string"
      },
      "text/plain": [
       "'/content/drive/MyDrive/Colab Notebooks/Data/CUB_200_2011/image_labels.csv'"
      ]
     },
     "execution_count": 17,
     "metadata": {},
     "output_type": "execute_result"
    }
   ],
   "source": [
    "create_labels_file()"
   ]
  },
  {
   "cell_type": "code",
   "execution_count": null,
   "metadata": {
    "id": "t1UgXWhEtnWB"
   },
   "outputs": [],
   "source": []
  }
 ],
 "metadata": {
  "colab": {
   "authorship_tag": "ABX9TyOtE89U2SDETICMTS4nIDvE",
   "provenance": []
  },
  "kernelspec": {
   "display_name": "Python 3",
   "language": "python",
   "name": "python3"
  },
  "language_info": {
   "codemirror_mode": {
    "name": "ipython",
    "version": 3
   },
   "file_extension": ".py",
   "mimetype": "text/x-python",
   "name": "python",
   "nbconvert_exporter": "python",
   "pygments_lexer": "ipython3",
   "version": "3.9.0"
  }
 },
 "nbformat": 4,
 "nbformat_minor": 1
}
