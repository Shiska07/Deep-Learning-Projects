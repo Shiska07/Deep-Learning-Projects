{
 "cells": [
  {
   "cell_type": "code",
   "execution_count": 1,
   "metadata": {
    "colab": {
     "base_uri": "https://localhost:8080/"
    },
    "executionInfo": {
     "elapsed": 21714,
     "status": "ok",
     "timestamp": 1696519400837,
     "user": {
      "displayName": "Shiska Raut",
      "userId": "09726644257059784788"
     },
     "user_tz": 300
    },
    "id": "1shJVSc8uuSS",
    "outputId": "04646f33-5889-46d9-ce9e-69ef72105330"
   },
   "outputs": [
    {
     "name": "stdout",
     "output_type": "stream",
     "text": [
      "Mounted at /content/drive\n"
     ]
    }
   ],
   "source": [
    "from google.colab import drive\n",
    "drive.mount('/content/drive')"
   ]
  },
  {
   "cell_type": "code",
   "execution_count": null,
   "metadata": {
    "id": "yMEEurQHumGl"
   },
   "outputs": [],
   "source": [
    "import os\n",
    "import cv2\n",
    "import numpy as np\n",
    "import pandas as pd\n",
    "from PIL import Image\n",
    "import matplotlib.pyplot as plt"
   ]
  },
  {
   "cell_type": "code",
   "execution_count": null,
   "metadata": {
    "id": "GPhwLJCxvI2K"
   },
   "outputs": [],
   "source": [
    "def crop_image(image, x1, y1, x2, y2):\n",
    "\n",
    "  left = x1\n",
    "  upper = y1\n",
    "  right = x1 + x2\n",
    "  lower = y1 + y2\n",
    "\n",
    "  cropped_image = image[upper:lower, left:right]\n",
    "  return cropped_image\n",
    "\n",
    "def create_bbox_df(image_names_file, bbox_file_path):\n",
    "\n",
    "  # read files and create dfs\n",
    "  img_df = pd.read_csv(image_names_path, delim_whitespace = True, index_col=False, header=None)\n",
    "  img_df['folder_name'] = img_df[img_df.columns[1]].apply(lambda x : x.split('/')[0])\n",
    "  bbox_df = pd.read_csv(bbox_file_path, delim_whitespace = True, index_col=False, header=None, dtype = np.int64).iloc[:,1:]\n",
    "\n",
    "  # join dfs\n",
    "  df = pd.concat([img_df.iloc[:,1:], bbox_df], axis = 1)\n",
    "  df.columns = ['class_name', 'folder_name', 'x1', 'y1', 'x2', 'y2']\n",
    "  return df\n",
    "\n",
    "\n",
    "def get_cropped_images(src_path, dst_path, bbox_df):\n",
    "\n",
    "  if not os.path.exists(dst_path):\n",
    "    os.makedirs(dst_path)\n",
    "\n",
    "  # count the number of images written\n",
    "  count = 0\n",
    "  for i in range(len(bbox_df)):\n",
    "    image_name = bbox_df['class_name'][i]\n",
    "    folder_name = bbox_df['folder_name'][i]\n",
    "\n",
    "    # if the class folder does not exist, create folder\n",
    "    dst_folder_path = os.path.join(dst_path, folder_name)\n",
    "    if not os.path.exists(dst_folder_path):\n",
    "        os.makedirs(dst_folder_path)\n",
    "\n",
    "    # get bounding box parameters\n",
    "    x1, y1, x2, y2 = bbox_df['x1'][i],bbox_df['y1'][i], bbox_df['x2'][i], bbox_df['y2'][i]\n",
    "\n",
    "    src_img_path = os.path.join(src_path, image_name)\n",
    "    dst_img_path = os.path.join(dst_path, image_name)\n",
    "\n",
    "    image = cv2.imread(src_img_path, cv2.IMREAD_COLOR)\n",
    "    cropped_img = crop_image(image, x1, y1, x2, y2)\n",
    "\n",
    "    cv2.imwrite(dst_img_path, cropped_img)\n",
    "    count+=1\n",
    "\n",
    "  print('Cropping Completed.\\n')\n",
    "  print(f'{count} files copied.')\n",
    "  return dst_path\n"
   ]
  },
  {
   "cell_type": "code",
   "execution_count": null,
   "metadata": {
    "id": "G4k0AYmiAJBL"
   },
   "outputs": [],
   "source": [
    "# provide paths\n",
    "img_src_path = '/content/drive/MyDrive/Colab Notebooks/Data/CUB_200_2011/images'\n",
    "img_dst_path = '/content/drive/MyDrive/Colab Notebooks/Data/CUB_200_2011/images_cropped'\n",
    "bbox_file_path = '/content/drive/MyDrive/Colab Notebooks/Data/CUB_200_2011/bounding_boxes.txt'\n",
    "image_names_path = '/content/drive/MyDrive/Colab Notebooks/Data/CUB_200_2011/images.txt'"
   ]
  },
  {
   "cell_type": "code",
   "execution_count": null,
   "metadata": {
    "id": "M4Ccuseu46ip"
   },
   "outputs": [],
   "source": [
    "# create df with image name and bbox info\n",
    "bbox_df = create_bbox_df(image_names_path, bbox_file_path)"
   ]
  },
  {
   "cell_type": "code",
   "execution_count": null,
   "metadata": {
    "colab": {
     "base_uri": "https://localhost:8080/"
    },
    "executionInfo": {
     "elapsed": 4,
     "status": "ok",
     "timestamp": 1696369600190,
     "user": {
      "displayName": "Shiska Raut",
      "userId": "09726644257059784788"
     },
     "user_tz": 300
    },
    "id": "k8vwMngWXaqu",
    "outputId": "3a14dea8-3266-4297-ce8f-3b871f7ec32f"
   },
   "outputs": [
    {
     "name": "stdout",
     "output_type": "stream",
     "text": [
      "<class 'pandas.core.frame.DataFrame'>\n",
      "RangeIndex: 11788 entries, 0 to 11787\n",
      "Data columns (total 6 columns):\n",
      " #   Column       Non-Null Count  Dtype \n",
      "---  ------       --------------  ----- \n",
      " 0   class_name   11788 non-null  object\n",
      " 1   folder_name  11788 non-null  object\n",
      " 2   x1           11788 non-null  int64 \n",
      " 3   y1           11788 non-null  int64 \n",
      " 4   x2           11788 non-null  int64 \n",
      " 5   y2           11788 non-null  int64 \n",
      "dtypes: int64(4), object(2)\n",
      "memory usage: 552.7+ KB\n"
     ]
    }
   ],
   "source": [
    "bbox_df.info()"
   ]
  },
  {
   "cell_type": "code",
   "execution_count": null,
   "metadata": {
    "colab": {
     "base_uri": "https://localhost:8080/",
     "height": 87
    },
    "executionInfo": {
     "elapsed": 1071209,
     "status": "ok",
     "timestamp": 1696370671397,
     "user": {
      "displayName": "Shiska Raut",
      "userId": "09726644257059784788"
     },
     "user_tz": 300
    },
    "id": "axP1p3nsQztJ",
    "outputId": "1ac72da8-7894-47f1-ee0f-9dd099aa8e92"
   },
   "outputs": [
    {
     "name": "stdout",
     "output_type": "stream",
     "text": [
      "Cropping Completed.\n",
      "\n",
      "11788 files copied.\n"
     ]
    },
    {
     "data": {
      "application/vnd.google.colaboratory.intrinsic+json": {
       "type": "string"
      },
      "text/plain": [
       "'/content/drive/MyDrive/Colab Notebooks/Data/CUB_200_2011/images_cropped'"
      ]
     },
     "execution_count": 84,
     "metadata": {},
     "output_type": "execute_result"
    }
   ],
   "source": [
    "# crop and store images in a different folder\n",
    "get_cropped_images(img_src_path, img_dst_path, bbox_df)"
   ]
  },
  {
   "cell_type": "code",
   "execution_count": null,
   "metadata": {
    "id": "CTM6yrY4XeBG"
   },
   "outputs": [],
   "source": []
  }
 ],
 "metadata": {
  "colab": {
   "authorship_tag": "ABX9TyNkubtR4ryQs7Rehf2R+Azv",
   "provenance": []
  },
  "kernelspec": {
   "display_name": "Python 3",
   "language": "python",
   "name": "python3"
  },
  "language_info": {
   "codemirror_mode": {
    "name": "ipython",
    "version": 3
   },
   "file_extension": ".py",
   "mimetype": "text/x-python",
   "name": "python",
   "nbconvert_exporter": "python",
   "pygments_lexer": "ipython3",
   "version": "3.9.0"
  }
 },
 "nbformat": 4,
 "nbformat_minor": 1
}
