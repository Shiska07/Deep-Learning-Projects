{
 "cells": [
  {
   "cell_type": "code",
   "execution_count": 1,
   "metadata": {
    "colab": {
     "base_uri": "https://localhost:8080/"
    },
    "executionInfo": {
     "elapsed": 18055,
     "status": "ok",
     "timestamp": 1696533741846,
     "user": {
      "displayName": "Shiska Raut",
      "userId": "09726644257059784788"
     },
     "user_tz": 300
    },
    "id": "b47DZ8X2Q_C2",
    "outputId": "f5505775-4003-4a1e-e55e-a05e48f32adb"
   },
   "outputs": [
    {
     "name": "stdout",
     "output_type": "stream",
     "text": [
      "Mounted at /content/drive\n"
     ]
    }
   ],
   "source": [
    "from google.colab import drive\n",
    "drive.mount('/content/drive')"
   ]
  },
  {
   "cell_type": "code",
   "execution_count": 1,
   "metadata": {
    "executionInfo": {
     "elapsed": 4741,
     "status": "ok",
     "timestamp": 1696533755226,
     "user": {
      "displayName": "Shiska Raut",
      "userId": "09726644257059784788"
     },
     "user_tz": 300
    },
    "id": "ZaLHJx6pRDmG"
   },
   "outputs": [],
   "source": [
    "import os\n",
    "import torch\n",
    "from torchvision import models\n",
    "torch.backends.cudnn.deterministic = True\n",
    "torch.backends.cudnn.benchmark = False"
   ]
  },
  {
   "cell_type": "code",
   "execution_count": 2,
   "metadata": {
    "colab": {
     "base_uri": "https://localhost:8080/"
    },
    "executionInfo": {
     "elapsed": 8,
     "status": "ok",
     "timestamp": 1696533755684,
     "user": {
      "displayName": "Shiska Raut",
      "userId": "09726644257059784788"
     },
     "user_tz": 300
    },
    "id": "0kcx0eR2Sqq3",
    "outputId": "62f62170-481e-4334-b40d-d511f5cfdcf5"
   },
   "outputs": [
    {
     "data": {
      "text/plain": [
       "device(type='cpu')"
      ]
     },
     "execution_count": 2,
     "metadata": {},
     "output_type": "execute_result"
    }
   ],
   "source": [
    "device = torch.device('cuda' if torch.cuda.is_available() else 'cpu')\n",
    "device"
   ]
  },
  {
   "cell_type": "code",
   "execution_count": 4,
   "metadata": {
    "executionInfo": {
     "elapsed": 210,
     "status": "ok",
     "timestamp": 1696534038923,
     "user": {
      "displayName": "Shiska Raut",
      "userId": "09726644257059784788"
     },
     "user_tz": 300
    },
    "id": "TKAAAa6BRJYO"
   },
   "outputs": [],
   "source": [
    "pretrained_models_path = '/content/drive/MyDrive/Colab Notebooks/pretrained_models'\n",
    "# models_to_download = ['vgg16', 'vgg19', 'resnet34', 'resnet50', 'efficientnet_b6', 'efficientnet_b7', 'efficientnet_b6', 'efficientnet_v2_s', 'efficientnet_v2_m']\n",
    "models_to_download = ['vgg16', 'vgg19']"
   ]
  },
  {
   "cell_type": "code",
   "execution_count": 5,
   "metadata": {
    "executionInfo": {
     "elapsed": 136,
     "status": "ok",
     "timestamp": 1696533982415,
     "user": {
      "displayName": "Shiska Raut",
      "userId": "09726644257059784788"
     },
     "user_tz": 300
    },
    "id": "POiw4RemST83"
   },
   "outputs": [],
   "source": [
    "def download_pretrained_models(model_name, dst_path, use_gpu = True):\n",
    "    os.makedirs(dst_path, exist_ok=True)\n",
    "\n",
    "    if use_gpu and torch.cuda.is_available():\n",
    "        model = getattr(models, model_name)(pretrained=True).cuda()\n",
    "    else:\n",
    "        model = getattr(models, model_name)(pretrained=True)\n",
    "\n",
    "    save_filename = os.path.join(dst_path, f'{model_name}.pth')\n",
    "    torch.save(model.state_dict(), save_filename)\n",
    "\n",
    "    print(f'Model {model_name} download complete!')\n"
   ]
  },
  {
   "cell_type": "code",
   "execution_count": null,
   "metadata": {
    "colab": {
     "base_uri": "https://localhost:8080/"
    },
    "executionInfo": {
     "elapsed": 51509,
     "status": "ok",
     "timestamp": 1696534100366,
     "user": {
      "displayName": "Shiska Raut",
      "userId": "09726644257059784788"
     },
     "user_tz": 300
    },
    "id": "9ATtPMZATisw",
    "outputId": "c1affbb6-b180-45c9-fc35-bb202535df0a"
   },
   "outputs": [
    {
     "name": "stderr",
     "output_type": "stream",
     "text": [
      "Downloading: \"https://download.pytorch.org/models/vgg16-397923af.pth\" to C:\\Users\\shisk/.cache\\torch\\hub\\checkpoints\\vgg16-397923af.pth\n"
     ]
    },
    {
     "data": {
      "application/vnd.jupyter.widget-view+json": {
       "model_id": "54279ddee5b3448ab8f23177f2d2c0b7",
       "version_major": 2,
       "version_minor": 0
      },
      "text/plain": [
       "  0%|          | 0.00/528M [00:00<?, ?B/s]"
      ]
     },
     "metadata": {},
     "output_type": "display_data"
    },
    {
     "name": "stdout",
     "output_type": "stream",
     "text": [
      "Model vgg16 download complete!\n"
     ]
    },
    {
     "name": "stderr",
     "output_type": "stream",
     "text": [
      "Downloading: \"https://download.pytorch.org/models/vgg19-dcbb9e9d.pth\" to C:\\Users\\shisk/.cache\\torch\\hub\\checkpoints\\vgg19-dcbb9e9d.pth\n"
     ]
    },
    {
     "data": {
      "application/vnd.jupyter.widget-view+json": {
       "model_id": "714616b01d4b4344a6460ebf4d36bc0e",
       "version_major": 2,
       "version_minor": 0
      },
      "text/plain": [
       "  0%|          | 0.00/548M [00:00<?, ?B/s]"
      ]
     },
     "metadata": {},
     "output_type": "display_data"
    }
   ],
   "source": [
    "for model_name in models_to_download:\n",
    "    download_pretrained_models(model_name, pretrained_models_path, True)"
   ]
  },
  {
   "cell_type": "code",
   "execution_count": null,
   "metadata": {
    "id": "zYkwnf8QTy5l"
   },
   "outputs": [],
   "source": []
  }
 ],
 "metadata": {
  "accelerator": "GPU",
  "colab": {
   "authorship_tag": "ABX9TyMHi3Ss30gVOWmNjrgjVPN1",
   "gpuType": "T4",
   "provenance": []
  },
  "kernelspec": {
   "display_name": "Python [conda env:pytorch_env]",
   "language": "python",
   "name": "conda-env-pytorch_env-py"
  },
  "language_info": {
   "codemirror_mode": {
    "name": "ipython",
    "version": 3
   },
   "file_extension": ".py",
   "mimetype": "text/x-python",
   "name": "python",
   "nbconvert_exporter": "python",
   "pygments_lexer": "ipython3",
   "version": "3.8.0"
  }
 },
 "nbformat": 4,
 "nbformat_minor": 1
}
