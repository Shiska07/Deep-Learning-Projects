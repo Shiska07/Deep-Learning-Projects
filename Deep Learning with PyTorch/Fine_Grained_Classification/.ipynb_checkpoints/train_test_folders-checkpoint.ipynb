{
 "cells": [
  {
   "cell_type": "code",
   "execution_count": 1,
   "metadata": {
    "colab": {
     "base_uri": "https://localhost:8080/"
    },
    "executionInfo": {
     "elapsed": 22541,
     "status": "ok",
     "timestamp": 1696519547180,
     "user": {
      "displayName": "Shiska Raut",
      "userId": "09726644257059784788"
     },
     "user_tz": 300
    },
    "id": "NvI97Iy9cRVW",
    "outputId": "4896ad8e-a858-420c-8ed7-d346f2fcf4fc"
   },
   "outputs": [
    {
     "name": "stdout",
     "output_type": "stream",
     "text": [
      "Mounted at /content/drive\n"
     ]
    }
   ],
   "source": [
    "from google.colab import drive\n",
    "drive.mount('/content/drive')"
   ]
  },
  {
   "cell_type": "code",
   "execution_count": 2,
   "metadata": {
    "executionInfo": {
     "elapsed": 1218,
     "status": "ok",
     "timestamp": 1696519584411,
     "user": {
      "displayName": "Shiska Raut",
      "userId": "09726644257059784788"
     },
     "user_tz": 300
    },
    "id": "O1X69pNocWR5"
   },
   "outputs": [],
   "source": [
    "import os\n",
    "import shutil\n",
    "from sklearn.model_selection import train_test_split"
   ]
  },
  {
   "cell_type": "code",
   "execution_count": 60,
   "metadata": {
    "executionInfo": {
     "elapsed": 359,
     "status": "ok",
     "timestamp": 1696528054204,
     "user": {
      "displayName": "Shiska Raut",
      "userId": "09726644257059784788"
     },
     "user_tz": 300
    },
    "id": "v9UGyxf9xfqy"
   },
   "outputs": [],
   "source": [
    "def create_train_test_split_folders(src_path, dst_path, test_size = 0.4):\n",
    "\n",
    "    classes = os.listdir(src_path)\n",
    "\n",
    "    # if destination folder does not exist, create folder\n",
    "    if not os.path.exists(dst_path):\n",
    "        os.makedirs(dst_path)\n",
    "\n",
    "    # Create train and test folders if they don't exist\n",
    "    train_folder = os.path.join(dst_path, 'train')\n",
    "    test_folder = os.path.join(dst_path, 'test')\n",
    "    os.makedirs(train_folder, exist_ok=True)\n",
    "    os.makedirs(test_folder, exist_ok=True)\n",
    "\n",
    "    # Iterate through each class folder\n",
    "    for class_name in classes:\n",
    "        class_path = os.path.join(src_path, class_name)\n",
    "\n",
    "        # List all files in the class folder\n",
    "        files = os.listdir(class_path)\n",
    "\n",
    "        # Split the files into train and test sets\n",
    "        train_files, test_files = train_test_split(files, test_size=test_size, random_state=42)\n",
    "\n",
    "        # Create subdirectories for this class in the train and test folders\n",
    "        train_class_folder = os.path.join(train_folder, class_name)\n",
    "        test_class_folder = os.path.join(test_folder, class_name)\n",
    "        os.makedirs(train_class_folder, exist_ok=True)\n",
    "        os.makedirs(test_class_folder, exist_ok=True)\n",
    "\n",
    "        # Move the train files to the train class folder\n",
    "        for file in train_files:\n",
    "            src = os.path.join(class_path, file)\n",
    "            dst = os.path.join(train_class_folder, file)\n",
    "            shutil.copy(src, dst)\n",
    "\n",
    "        # Move the test files to the test class folder\n",
    "        for file in test_files:\n",
    "            src = os.path.join(class_path, file)\n",
    "            dst = os.path.join(test_class_folder, file)\n",
    "            shutil.copy(src, dst)\n"
   ]
  },
  {
   "cell_type": "code",
   "execution_count": 61,
   "metadata": {
    "executionInfo": {
     "elapsed": 2827126,
     "status": "ok",
     "timestamp": 1696530882975,
     "user": {
      "displayName": "Shiska Raut",
      "userId": "09726644257059784788"
     },
     "user_tz": 300
    },
    "id": "jwbiP-Ac8eBb"
   },
   "outputs": [],
   "source": [
    "images_dir_path = '/content/drive/MyDrive/Colab Notebooks/Data/CUB_200_2011/images_cropped'\n",
    "train_test_dir_path = '/content/drive/MyDrive/Colab Notebooks/Data/CUB_200_2011/train_test_cropped'\n",
    "create_train_test_split_folders(images_dir_path, train_test_dir_path, 0.4)"
   ]
  },
  {
   "cell_type": "code",
   "execution_count": 56,
   "metadata": {
    "executionInfo": {
     "elapsed": 95,
     "status": "ok",
     "timestamp": 1696524716066,
     "user": {
      "displayName": "Shiska Raut",
      "userId": "09726644257059784788"
     },
     "user_tz": 300
    },
    "id": "qb2Epfb5c8Nk"
   },
   "outputs": [],
   "source": []
  }
 ],
 "metadata": {
  "colab": {
   "authorship_tag": "ABX9TyPbjHhozvc1l3hEIL6s/fB4",
   "provenance": []
  },
  "kernelspec": {
   "display_name": "Python 3 (ipykernel)",
   "language": "python",
   "name": "python3"
  },
  "language_info": {
   "codemirror_mode": {
    "name": "ipython",
    "version": 3
   },
   "file_extension": ".py",
   "mimetype": "text/x-python",
   "name": "python",
   "nbconvert_exporter": "python",
   "pygments_lexer": "ipython3",
   "version": "3.10.9"
  }
 },
 "nbformat": 4,
 "nbformat_minor": 1
}
