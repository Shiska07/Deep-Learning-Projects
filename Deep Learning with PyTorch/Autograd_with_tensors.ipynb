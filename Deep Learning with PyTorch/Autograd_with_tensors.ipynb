{
  "nbformat": 4,
  "nbformat_minor": 0,
  "metadata": {
    "colab": {
      "provenance": []
    },
    "kernelspec": {
      "name": "python3",
      "display_name": "Python 3"
    }
  },
  "cells": [
    {
      "cell_type": "markdown",
      "metadata": {
        "id": "KPXHZpput5Xf"
      },
      "source": [
        "# Autograd with tensors"
      ]
    },
    {
      "cell_type": "code",
      "metadata": {
        "id": "p-C6nLqAt98a"
      },
      "source": [
        "import torch"
      ],
      "execution_count": 1,
      "outputs": []
    },
    {
      "cell_type": "code",
      "metadata": {
        "id": "WRSfe0Lut952"
      },
      "source": [
        "# create tensor\n",
        "w = torch.randn(4,5,requires_grad=True)"
      ],
      "execution_count": 2,
      "outputs": []
    },
    {
      "cell_type": "code",
      "metadata": {
        "id": "O-QcOYO1tkOn",
        "colab": {
          "base_uri": "https://localhost:8080/"
        },
        "outputId": "2d3fcd0d-58e1-477a-d0be-5407ae499af8"
      },
      "source": [
        "w"
      ],
      "execution_count": 3,
      "outputs": [
        {
          "output_type": "execute_result",
          "data": {
            "text/plain": [
              "tensor([[-0.5259, -0.3015, -0.9987, -0.7345,  0.1963],\n",
              "        [ 0.3745,  0.8104,  0.4180, -1.8994, -0.6733],\n",
              "        [ 2.4295,  0.1600,  0.9832, -0.4276, -0.8929],\n",
              "        [-1.6738, -1.2183,  0.7792,  0.0638, -0.0109]], requires_grad=True)"
            ]
          },
          "metadata": {},
          "execution_count": 3
        }
      ]
    },
    {
      "cell_type": "code",
      "metadata": {
        "id": "FuWckF34t8X1",
        "colab": {
          "base_uri": "https://localhost:8080/"
        },
        "outputId": "4b55edc3-1695-4c55-e109-43f8da2ed2f3"
      },
      "source": [
        "w.requires_grad_(False) # set gradients to false"
      ],
      "execution_count": 4,
      "outputs": [
        {
          "output_type": "execute_result",
          "data": {
            "text/plain": [
              "tensor([[-0.5259, -0.3015, -0.9987, -0.7345,  0.1963],\n",
              "        [ 0.3745,  0.8104,  0.4180, -1.8994, -0.6733],\n",
              "        [ 2.4295,  0.1600,  0.9832, -0.4276, -0.8929],\n",
              "        [-1.6738, -1.2183,  0.7792,  0.0638, -0.0109]])"
            ]
          },
          "metadata": {},
          "execution_count": 4
        }
      ]
    },
    {
      "cell_type": "code",
      "metadata": {
        "id": "SkQCjuabt8Vh",
        "colab": {
          "base_uri": "https://localhost:8080/"
        },
        "outputId": "405442ca-22ba-4d20-dea9-bcc8194abdd8"
      },
      "source": [
        "w.requires_grad_(True) # set gradients to true"
      ],
      "execution_count": 5,
      "outputs": [
        {
          "output_type": "execute_result",
          "data": {
            "text/plain": [
              "tensor([[-0.5259, -0.3015, -0.9987, -0.7345,  0.1963],\n",
              "        [ 0.3745,  0.8104,  0.4180, -1.8994, -0.6733],\n",
              "        [ 2.4295,  0.1600,  0.9832, -0.4276, -0.8929],\n",
              "        [-1.6738, -1.2183,  0.7792,  0.0638, -0.0109]], requires_grad=True)"
            ]
          },
          "metadata": {},
          "execution_count": 5
        }
      ]
    },
    {
      "cell_type": "code",
      "metadata": {
        "id": "rvggJC5wt8Ti"
      },
      "source": [
        "y = torch.exp(w)"
      ],
      "execution_count": 6,
      "outputs": []
    },
    {
      "cell_type": "code",
      "metadata": {
        "id": "PEg2PQiXt8RR",
        "colab": {
          "base_uri": "https://localhost:8080/"
        },
        "outputId": "c27c3362-9979-48b6-b290-be30b4c7ba19"
      },
      "source": [
        "y"
      ],
      "execution_count": 7,
      "outputs": [
        {
          "output_type": "execute_result",
          "data": {
            "text/plain": [
              "tensor([[ 0.5910,  0.7397,  0.3683,  0.4797,  1.2169],\n",
              "        [ 1.4542,  2.2488,  1.5190,  0.1497,  0.5100],\n",
              "        [11.3527,  1.1735,  2.6731,  0.6521,  0.4095],\n",
              "        [ 0.1875,  0.2957,  2.1798,  1.0658,  0.9892]], grad_fn=<ExpBackward0>)"
            ]
          },
          "metadata": {},
          "execution_count": 7
        }
      ]
    },
    {
      "cell_type": "code",
      "metadata": {
        "id": "QZopoC8It8O7",
        "colab": {
          "base_uri": "https://localhost:8080/"
        },
        "outputId": "4b5262d9-c948-4119-e809-85980f232324"
      },
      "source": [
        "'''\n",
        "By printing the gradient function we can see that torch keeps track of all gradients\n",
        "'''\n",
        "print(y.grad_fn)"
      ],
      "execution_count": 8,
      "outputs": [
        {
          "output_type": "stream",
          "name": "stdout",
          "text": [
            "<ExpBackward0 object at 0x7a317d667370>\n"
          ]
        }
      ]
    },
    {
      "cell_type": "code",
      "metadata": {
        "id": "ManI6K2rt8HD"
      },
      "source": [
        "outp = y.mean()"
      ],
      "execution_count": 9,
      "outputs": []
    },
    {
      "cell_type": "code",
      "metadata": {
        "id": "tbQpKI4it8EJ",
        "colab": {
          "base_uri": "https://localhost:8080/"
        },
        "outputId": "fd306127-90fb-4dec-f9d6-d0f47eae80b1"
      },
      "source": [
        "print(w.grad)"
      ],
      "execution_count": 10,
      "outputs": [
        {
          "output_type": "stream",
          "name": "stdout",
          "text": [
            "None\n"
          ]
        }
      ]
    },
    {
      "cell_type": "code",
      "metadata": {
        "id": "Qq3KkSGvt8B_"
      },
      "source": [
        "# we can calulate the gradient of mean(y) with respect to w; note y = exp(w)\n",
        "outp.backward()"
      ],
      "execution_count": 11,
      "outputs": []
    },
    {
      "cell_type": "code",
      "metadata": {
        "id": "SgOzb_QMt7_-",
        "colab": {
          "base_uri": "https://localhost:8080/"
        },
        "outputId": "e78c6aa6-710e-4f86-cf78-e95530c9ca7c"
      },
      "source": [
        "# print gradients of 'w' w.r.t. 'outp'\n",
        "print(w.grad)"
      ],
      "execution_count": 12,
      "outputs": [
        {
          "output_type": "stream",
          "name": "stdout",
          "text": [
            "tensor([[0.0296, 0.0370, 0.0184, 0.0240, 0.0608],\n",
            "        [0.0727, 0.1124, 0.0759, 0.0075, 0.0255],\n",
            "        [0.5676, 0.0587, 0.1337, 0.0326, 0.0205],\n",
            "        [0.0094, 0.0148, 0.1090, 0.0533, 0.0495]])\n"
          ]
        }
      ]
    },
    {
      "cell_type": "code",
      "metadata": {
        "id": "zVpIjfJ9t79q",
        "colab": {
          "base_uri": "https://localhost:8080/"
        },
        "outputId": "82dd674c-9593-4ddb-cd6e-995aa5a923be"
      },
      "source": [
        "# stop tracking\n",
        "print(w.detach)"
      ],
      "execution_count": 13,
      "outputs": [
        {
          "output_type": "stream",
          "name": "stdout",
          "text": [
            "<built-in method detach of Tensor object at 0x7a317f4c1120>\n"
          ]
        }
      ]
    },
    {
      "cell_type": "code",
      "metadata": {
        "id": "_zJ-R2vvt77R",
        "colab": {
          "base_uri": "https://localhost:8080/"
        },
        "outputId": "292feb35-60c5-4924-d7dd-0241c78e76e4"
      },
      "source": [
        "print(outp.requires_grad)"
      ],
      "execution_count": 14,
      "outputs": [
        {
          "output_type": "stream",
          "name": "stdout",
          "text": [
            "True\n"
          ]
        }
      ]
    },
    {
      "cell_type": "code",
      "metadata": {
        "id": "uXriXeRvt75Z",
        "colab": {
          "base_uri": "https://localhost:8080/"
        },
        "outputId": "c69e57a2-71d1-47bb-896d-ab5716c31a01"
      },
      "source": [
        "# tracking cal also be stopped by using the variable inside the 'no_grad()' block\n",
        "with torch.no_grad():\n",
        "  outp = (w+y).mean()\n",
        "\n",
        "print(outp.requires_grad)"
      ],
      "execution_count": 15,
      "outputs": [
        {
          "output_type": "stream",
          "name": "stdout",
          "text": [
            "False\n"
          ]
        }
      ]
    },
    {
      "cell_type": "code",
      "metadata": {
        "id": "oOG09FTEt7uO",
        "colab": {
          "base_uri": "https://localhost:8080/"
        },
        "outputId": "5d9f97b5-d272-44c3-c019-3ff3113ec605"
      },
      "source": [
        "print(outp.requires_grad)"
      ],
      "execution_count": 18,
      "outputs": [
        {
          "output_type": "stream",
          "name": "stdout",
          "text": [
            "False\n"
          ]
        }
      ]
    },
    {
      "cell_type": "code",
      "metadata": {
        "id": "EIOQXJu-t7sK"
      },
      "source": [],
      "execution_count": null,
      "outputs": []
    },
    {
      "cell_type": "code",
      "metadata": {
        "id": "bkjm3Hp3t7p-"
      },
      "source": [],
      "execution_count": null,
      "outputs": []
    }
  ]
}