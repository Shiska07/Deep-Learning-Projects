{
 "cells": [
  {
   "cell_type": "code",
   "execution_count": 1,
   "metadata": {
    "id": "RiK7g1lnA-E3"
   },
   "outputs": [],
   "source": [
    "import os\n",
    "import sys\n",
    "import numpy as np\n",
    "import pandas as pd\n",
    "import matplotlib.pyplot as plt\n",
    "import cv2\n",
    "%matplotlib inline"
   ]
  },
  {
   "cell_type": "code",
   "execution_count": 7,
   "metadata": {
    "id": "fE8AKSdMBBnR"
   },
   "outputs": [],
   "source": [
    "train_labels_file = 'data/CBIS-DDSM/csv/train_labels.csv'\n",
    "test_labels_file = 'data/CBIS-DDSM/csv/test_labels.csv'\n",
    "images_path = 'data/CBIS-DDSM/jpeg'"
   ]
  },
  {
   "cell_type": "code",
   "execution_count": 6,
   "metadata": {
    "id": "nThfyFTMBSa2"
   },
   "outputs": [],
   "source": [
    "dest_folder = 'data/CBIS-DDSM/processed/cropped/roi'\n",
    "\n",
    "# provide nested directory structure\n",
    "dir_structure = dict()\n",
    "dir_structure[0] = ['train','test']                                 \n",
    "dir_structure[1] = ['BENIGN_Calc', 'BENIGN_Mass','MALIGNANT_Calc', 'MALIGNANT_Mass'] "
   ]
  },
  {
   "cell_type": "code",
   "execution_count": 7,
   "metadata": {
    "id": "92CxVoUECPP3"
   },
   "outputs": [],
   "source": [
    "# create nested directories\n",
    "for i in range(len(dir_structure[0])):\n",
    "    dir_0 = dir_structure[0][i]  # directory at level 0\n",
    "    for j in range(len(dir_structure[1])):\n",
    "        dir_1 = dir_structure[1][j] # directpry at level 1\n",
    "        dest_path = os.path.join(dest_folder, dir_0, dir_1)\n",
    "        # create directories\n",
    "        os.makedirs(dest_path, exist_ok=True)"
   ]
  },
  {
   "cell_type": "code",
   "execution_count": 10,
   "metadata": {
    "id": "Grh5OjyCD3KX"
   },
   "outputs": [],
   "source": [
    "# read label files\n",
    "df_train = pd.read_csv(train_labels_file)\n",
    "df_test = pd.read_csv(test_labels_file)"
   ]
  },
  {
   "cell_type": "code",
   "execution_count": 11,
   "metadata": {
    "colab": {
     "base_uri": "https://localhost:8080/"
    },
    "id": "F5H1BZLLEQuW",
    "outputId": "cc7cba2f-2223-46f2-f6b6-57456cbf54e0"
   },
   "outputs": [
    {
     "data": {
      "text/plain": [
       "Index(['BENIGN_Calc', 'BENIGN_Mass', 'BENIGN_WITHOUT_CALLBACK_Calc',\n",
       "       'BENIGN_WITHOUT_CALLBACK_Mass', 'MALIGNANT_Calc', 'MALIGNANT_Mass'],\n",
       "      dtype='object', name='pathology')"
      ]
     },
     "execution_count": 11,
     "metadata": {},
     "output_type": "execute_result"
    }
   ],
   "source": [
    "df_train.groupby('pathology').count().index"
   ]
  },
  {
   "cell_type": "code",
   "execution_count": 12,
   "metadata": {
    "colab": {
     "base_uri": "https://localhost:8080/"
    },
    "id": "XYn9XkvsHc6-",
    "outputId": "f32583a7-217c-4a75-ddc9-bca64203636e"
   },
   "outputs": [
    {
     "name": "stdout",
     "output_type": "stream",
     "text": [
      "<class 'pandas.core.frame.DataFrame'>\n",
      "RangeIndex: 8184 entries, 0 to 8183\n",
      "Data columns (total 12 columns):\n",
      " #   Column             Non-Null Count  Dtype \n",
      "---  ------             --------------  ----- \n",
      " 0   image_path         8184 non-null   object\n",
      " 1   Laterality         8184 non-null   object\n",
      " 2   PatientID          8184 non-null   object\n",
      " 3   SeriesDescription  8184 non-null   object\n",
      " 4   SeriesInstanceUID  8184 non-null   object\n",
      " 5   StudyInstanceUID   8184 non-null   object\n",
      " 6   patient_id         8184 non-null   int64 \n",
      " 7   image view         8184 non-null   object\n",
      " 8   train              8184 non-null   int64 \n",
      " 9   type               8184 non-null   object\n",
      " 10  key                8184 non-null   object\n",
      " 11  pathology          8184 non-null   object\n",
      "dtypes: int64(2), object(10)\n",
      "memory usage: 767.4+ KB\n"
     ]
    }
   ],
   "source": [
    "df_train.info()"
   ]
  },
  {
   "cell_type": "code",
   "execution_count": 13,
   "metadata": {
    "id": "U6L5hznwHnU4"
   },
   "outputs": [],
   "source": [
    "'''\n",
    "The destination location of each image depends of these attributes:\n",
    "1. SeriesDescription: 'ROI mask images', 'cropped images','full mammogram images'\n",
    "2. type: 'calc','mass'\n",
    "3. train: 1, 0\n",
    "4. pathology: 'benign', 'malignant'\n",
    "'''\n",
    "\n",
    "# this function takes each item in the series and creates the new path in order\n",
    "def getDestinationPath(ser):\n",
    "    # conver series to list for ease\n",
    "    vals = ser.to_list()\n",
    "\n",
    "    # SeriesDescription\n",
    "    if vals[0] == 'full mammogram images':\n",
    "        path1 = 'whole_images'\n",
    "    elif vals[0] == 'cropped images':\n",
    "        path1 = 'cropped_images'\n",
    "    else:\n",
    "        path1 = 'roi_images'\n",
    "\n",
    "    # train info\n",
    "    if vals[1] == 1:\n",
    "        path2 = 'train'\n",
    "    else: path2 = 'test'\n",
    "\n",
    "    # class label\n",
    "    path3 = str(vals[2])\n",
    "\n",
    "    patient_id = str(vals[3])\n",
    "    laterality = str(vals[4])\n",
    "    view = str(vals[5])\n",
    "    image_name = patient_id +'_'+ laterality +'_'+ view +'.jpeg'\n",
    "    dest_path = os.path.join(dest_folder, path1, path2, path3, image_name)\n",
    "\n",
    "    return dest_path"
   ]
  },
  {
   "cell_type": "code",
   "execution_count": 14,
   "metadata": {
    "id": "8xfbOuLsL2B7"
   },
   "outputs": [],
   "source": [
    "# create destination file path\n",
    "df_train['dest_file_path'] = [getDestinationPath(df_train[['SeriesDescription','train','pathology',\n",
    "                                  'patient_id','Laterality','image view']].iloc[i]) for i in range(len(df_train))]\n",
    "df_test['dest_file_path'] = [getDestinationPath(df_test[['SeriesDescription','train','pathology',\n",
    "                                  'patient_id','Laterality','image view']].iloc[i]) for i in range(len(df_test))]"
   ]
  },
  {
   "cell_type": "code",
   "execution_count": 15,
   "metadata": {
    "colab": {
     "base_uri": "https://localhost:8080/",
     "height": 330
    },
    "id": "CHg8scUJMU_3",
    "outputId": "d47bb5be-fd8c-4d05-8847-26ebedfc2e16"
   },
   "outputs": [
    {
     "data": {
      "text/html": [
       "<div>\n",
       "<style scoped>\n",
       "    .dataframe tbody tr th:only-of-type {\n",
       "        vertical-align: middle;\n",
       "    }\n",
       "\n",
       "    .dataframe tbody tr th {\n",
       "        vertical-align: top;\n",
       "    }\n",
       "\n",
       "    .dataframe thead th {\n",
       "        text-align: right;\n",
       "    }\n",
       "</style>\n",
       "<table border=\"1\" class=\"dataframe\">\n",
       "  <thead>\n",
       "    <tr style=\"text-align: right;\">\n",
       "      <th></th>\n",
       "      <th>image_path</th>\n",
       "      <th>Laterality</th>\n",
       "      <th>PatientID</th>\n",
       "      <th>SeriesDescription</th>\n",
       "      <th>SeriesInstanceUID</th>\n",
       "      <th>StudyInstanceUID</th>\n",
       "      <th>patient_id</th>\n",
       "      <th>image view</th>\n",
       "      <th>train</th>\n",
       "      <th>type</th>\n",
       "      <th>key</th>\n",
       "      <th>pathology</th>\n",
       "      <th>dest_file_path</th>\n",
       "    </tr>\n",
       "  </thead>\n",
       "  <tbody>\n",
       "    <tr>\n",
       "      <th>0</th>\n",
       "      <td>CBIS-DDSM/jpeg/1.3.6.1.4.1.9590.100.1.2.129308...</td>\n",
       "      <td>R</td>\n",
       "      <td>Mass-Training_P_01265_RIGHT_MLO_1</td>\n",
       "      <td>cropped images</td>\n",
       "      <td>1.3.6.1.4.1.9590.100.1.2.129308726812851964007...</td>\n",
       "      <td>1.3.6.1.4.1.9590.100.1.2.271867287611061855725...</td>\n",
       "      <td>1265</td>\n",
       "      <td>MLO</td>\n",
       "      <td>1</td>\n",
       "      <td>Mass</td>\n",
       "      <td>01265_R</td>\n",
       "      <td>BENIGN_Mass</td>\n",
       "      <td>data/processed\\cropped_images\\train\\BENIGN_Mas...</td>\n",
       "    </tr>\n",
       "    <tr>\n",
       "      <th>1</th>\n",
       "      <td>CBIS-DDSM/jpeg/1.3.6.1.4.1.9590.100.1.2.248386...</td>\n",
       "      <td>R</td>\n",
       "      <td>Mass-Training_P_01754_RIGHT_CC</td>\n",
       "      <td>full mammogram images</td>\n",
       "      <td>1.3.6.1.4.1.9590.100.1.2.248386742010678582309...</td>\n",
       "      <td>1.3.6.1.4.1.9590.100.1.2.161516517311681906612...</td>\n",
       "      <td>1754</td>\n",
       "      <td>CC</td>\n",
       "      <td>1</td>\n",
       "      <td>Mass</td>\n",
       "      <td>01754_R</td>\n",
       "      <td>MALIGNANT_Mass</td>\n",
       "      <td>data/processed\\whole_images\\train\\MALIGNANT_Ma...</td>\n",
       "    </tr>\n",
       "    <tr>\n",
       "      <th>2</th>\n",
       "      <td>CBIS-DDSM/jpeg/1.3.6.1.4.1.9590.100.1.2.267213...</td>\n",
       "      <td>R</td>\n",
       "      <td>Calc-Training_P_00232_RIGHT_CC</td>\n",
       "      <td>full mammogram images</td>\n",
       "      <td>1.3.6.1.4.1.9590.100.1.2.267213171011171858918...</td>\n",
       "      <td>1.3.6.1.4.1.9590.100.1.2.291043622711253836701...</td>\n",
       "      <td>232</td>\n",
       "      <td>CC</td>\n",
       "      <td>1</td>\n",
       "      <td>Calc</td>\n",
       "      <td>00232_R</td>\n",
       "      <td>MALIGNANT_Calc</td>\n",
       "      <td>data/processed\\whole_images\\train\\MALIGNANT_Ca...</td>\n",
       "    </tr>\n",
       "    <tr>\n",
       "      <th>3</th>\n",
       "      <td>CBIS-DDSM/jpeg/1.3.6.1.4.1.9590.100.1.2.153339...</td>\n",
       "      <td>R</td>\n",
       "      <td>Calc-Training_P_00181_RIGHT_CC_1</td>\n",
       "      <td>ROI mask images</td>\n",
       "      <td>1.3.6.1.4.1.9590.100.1.2.153339052913121382622...</td>\n",
       "      <td>1.3.6.1.4.1.9590.100.1.2.157384031212566921514...</td>\n",
       "      <td>181</td>\n",
       "      <td>CC</td>\n",
       "      <td>1</td>\n",
       "      <td>Calc</td>\n",
       "      <td>00181_R</td>\n",
       "      <td>BENIGN_Calc</td>\n",
       "      <td>data/processed\\roi_images\\train\\BENIGN_Calc\\18...</td>\n",
       "    </tr>\n",
       "    <tr>\n",
       "      <th>4</th>\n",
       "      <td>CBIS-DDSM/jpeg/1.3.6.1.4.1.9590.100.1.2.153339...</td>\n",
       "      <td>R</td>\n",
       "      <td>Calc-Training_P_00181_RIGHT_CC_1</td>\n",
       "      <td>cropped images</td>\n",
       "      <td>1.3.6.1.4.1.9590.100.1.2.153339052913121382622...</td>\n",
       "      <td>1.3.6.1.4.1.9590.100.1.2.157384031212566921514...</td>\n",
       "      <td>181</td>\n",
       "      <td>CC</td>\n",
       "      <td>1</td>\n",
       "      <td>Calc</td>\n",
       "      <td>00181_R</td>\n",
       "      <td>BENIGN_Calc</td>\n",
       "      <td>data/processed\\cropped_images\\train\\BENIGN_Cal...</td>\n",
       "    </tr>\n",
       "  </tbody>\n",
       "</table>\n",
       "</div>"
      ],
      "text/plain": [
       "                                          image_path Laterality  \\\n",
       "0  CBIS-DDSM/jpeg/1.3.6.1.4.1.9590.100.1.2.129308...          R   \n",
       "1  CBIS-DDSM/jpeg/1.3.6.1.4.1.9590.100.1.2.248386...          R   \n",
       "2  CBIS-DDSM/jpeg/1.3.6.1.4.1.9590.100.1.2.267213...          R   \n",
       "3  CBIS-DDSM/jpeg/1.3.6.1.4.1.9590.100.1.2.153339...          R   \n",
       "4  CBIS-DDSM/jpeg/1.3.6.1.4.1.9590.100.1.2.153339...          R   \n",
       "\n",
       "                           PatientID      SeriesDescription  \\\n",
       "0  Mass-Training_P_01265_RIGHT_MLO_1         cropped images   \n",
       "1     Mass-Training_P_01754_RIGHT_CC  full mammogram images   \n",
       "2     Calc-Training_P_00232_RIGHT_CC  full mammogram images   \n",
       "3   Calc-Training_P_00181_RIGHT_CC_1        ROI mask images   \n",
       "4   Calc-Training_P_00181_RIGHT_CC_1         cropped images   \n",
       "\n",
       "                                   SeriesInstanceUID  \\\n",
       "0  1.3.6.1.4.1.9590.100.1.2.129308726812851964007...   \n",
       "1  1.3.6.1.4.1.9590.100.1.2.248386742010678582309...   \n",
       "2  1.3.6.1.4.1.9590.100.1.2.267213171011171858918...   \n",
       "3  1.3.6.1.4.1.9590.100.1.2.153339052913121382622...   \n",
       "4  1.3.6.1.4.1.9590.100.1.2.153339052913121382622...   \n",
       "\n",
       "                                    StudyInstanceUID  patient_id image view  \\\n",
       "0  1.3.6.1.4.1.9590.100.1.2.271867287611061855725...        1265        MLO   \n",
       "1  1.3.6.1.4.1.9590.100.1.2.161516517311681906612...        1754         CC   \n",
       "2  1.3.6.1.4.1.9590.100.1.2.291043622711253836701...         232         CC   \n",
       "3  1.3.6.1.4.1.9590.100.1.2.157384031212566921514...         181         CC   \n",
       "4  1.3.6.1.4.1.9590.100.1.2.157384031212566921514...         181         CC   \n",
       "\n",
       "   train  type      key       pathology  \\\n",
       "0      1  Mass  01265_R     BENIGN_Mass   \n",
       "1      1  Mass  01754_R  MALIGNANT_Mass   \n",
       "2      1  Calc  00232_R  MALIGNANT_Calc   \n",
       "3      1  Calc  00181_R     BENIGN_Calc   \n",
       "4      1  Calc  00181_R     BENIGN_Calc   \n",
       "\n",
       "                                      dest_file_path  \n",
       "0  data/processed\\cropped_images\\train\\BENIGN_Mas...  \n",
       "1  data/processed\\whole_images\\train\\MALIGNANT_Ma...  \n",
       "2  data/processed\\whole_images\\train\\MALIGNANT_Ca...  \n",
       "3  data/processed\\roi_images\\train\\BENIGN_Calc\\18...  \n",
       "4  data/processed\\cropped_images\\train\\BENIGN_Cal...  "
      ]
     },
     "execution_count": 15,
     "metadata": {},
     "output_type": "execute_result"
    }
   ],
   "source": [
    "df_train.head()"
   ]
  },
  {
   "cell_type": "code",
   "execution_count": 16,
   "metadata": {
    "id": "t4d0tin3Oo53"
   },
   "outputs": [],
   "source": [
    "# replace old path with current image path in your machine\n",
    "df_train['image_path'] = df_train.image_path.apply(lambda x: x.replace('CBIS-DDSM', 'data/CBIS-DDSM'))\n",
    "df_test['image_path'] = df_test.image_path.apply(lambda x: x.replace('CBIS-DDSM', 'data/CBIS-DDSM'))"
   ]
  },
  {
   "cell_type": "code",
   "execution_count": 17,
   "metadata": {
    "colab": {
     "base_uri": "https://localhost:8080/",
     "height": 54
    },
    "id": "Ux9XMdK0rd7v",
    "outputId": "e02f5bf7-034f-438d-f2a2-01e7162722da"
   },
   "outputs": [
    {
     "data": {
      "text/plain": [
       "'data/CBIS-DDSM/jpeg/1.3.6.1.4.1.9590.100.1.2.129308726812851964007517874181459556304/1-172.jpg'"
      ]
     },
     "execution_count": 17,
     "metadata": {},
     "output_type": "execute_result"
    }
   ],
   "source": [
    "df_train['image_path'].iloc[0]"
   ]
  },
  {
   "cell_type": "code",
   "execution_count": 18,
   "metadata": {
    "id": "gbRIbwvZT8BX"
   },
   "outputs": [],
   "source": [
    "from IPython.terminal.shortcuts import SEARCH_BUFFER\n",
    "# Finally, copy files from source to destination\n",
    "import shutil\n",
    "invalid_files = 0\n",
    "\n",
    "def copy_image(src, dst):\n",
    "    try:\n",
    "        # Check if source file exists before copying\n",
    "        if os.path.isfile(src):\n",
    "            shutil.copy(src, dst)\n",
    "            return 0\n",
    "        else:\n",
    "            # print(f\"Source image {src} does not exist.\")\n",
    "            return 1\n",
    "    except Exception as e:\n",
    "        print(f\"An error occurred: {e}\")"
   ]
  },
  {
   "cell_type": "code",
   "execution_count": 19,
   "metadata": {
    "id": "9pYxOSqkVFRW"
   },
   "outputs": [
    {
     "name": "stdout",
     "output_type": "stream",
     "text": [
      "Total invalid files 0\n"
     ]
    }
   ],
   "source": [
    "for i in range(len(df_train)):\n",
    "    vals = df_train[['image_path', 'dest_file_path']].iloc[i].values.tolist()\n",
    "    invalid_files += copy_image(vals[0], vals[1])\n",
    "\n",
    "print(f'Total invalid files {invalid_files}')"
   ]
  },
  {
   "cell_type": "code",
   "execution_count": 20,
   "metadata": {
    "id": "spc2T4tspJLu"
   },
   "outputs": [
    {
     "name": "stdout",
     "output_type": "stream",
     "text": [
      "Total invalid files for test 0\n"
     ]
    }
   ],
   "source": [
    "invalid_files = 0\n",
    "for i in range(len(df_test)):\n",
    "    vals = df_test[['image_path', 'dest_file_path']].iloc[i].values.tolist()\n",
    "    invalid_files += copy_image(vals[0], vals[1])\n",
    "\n",
    "print(f'Total invalid files for test {invalid_files}')"
   ]
  },
  {
   "cell_type": "code",
   "execution_count": null,
   "metadata": {
    "id": "o0djmXNzsfQo"
   },
   "outputs": [],
   "source": []
  }
 ],
 "metadata": {
  "colab": {
   "provenance": []
  },
  "kernelspec": {
   "display_name": "Python 3 (ipykernel)",
   "language": "python",
   "name": "python3"
  },
  "language_info": {
   "codemirror_mode": {
    "name": "ipython",
    "version": 3
   },
   "file_extension": ".py",
   "mimetype": "text/x-python",
   "name": "python",
   "nbconvert_exporter": "python",
   "pygments_lexer": "ipython3",
   "version": "3.8.0"
  }
 },
 "nbformat": 4,
 "nbformat_minor": 1
}
