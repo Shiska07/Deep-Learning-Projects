{
 "cells": [
  {
   "cell_type": "code",
   "execution_count": 97,
   "id": "10f6997b",
   "metadata": {},
   "outputs": [],
   "source": [
    "import os\n",
    "import sys\n",
    "import cv2\n",
    "import numpy as np\n",
    "import pandas as pd\n",
    "import matplotlib.pyplot as plt\n",
    "%matplotlib inline"
   ]
  },
  {
   "cell_type": "code",
   "execution_count": 98,
   "id": "760a2bfb",
   "metadata": {},
   "outputs": [],
   "source": [
    "image_folder_path_m = 'data/CBIS-DDSM/benign_without_callback/whole_images/BENIGN_WITHOUT_CALLBACK_Mass'\n",
    "image_folder_path_c = 'data/CBIS-DDSM/benign_without_callback/whole_images/BENIGN_WITHOUT_CALLBACK_Calc'\n",
    "mask_folder_path_m = 'data/CBIS-DDSM/benign_without_callback/roi/BENIGN_WITHOUT_CALLBACK_Mass'\n",
    "mask_folder_path_c = 'data/CBIS-DDSM/benign_without_callback/roi/BENIGN_WITHOUT_CALLBACK_Calc'\n",
    "dest_folder_path = 'data/CBIS-DDSM/processed/cropped_images/train/BACKGROUND'"
   ]
  },
  {
   "cell_type": "code",
   "execution_count": 99,
   "id": "86b2a693",
   "metadata": {},
   "outputs": [],
   "source": [
    "# read a patch to check dimension\n",
    "patch_path = 'data/CBIS-DDSM/benign_without_callback/roi/BENIGN_WITHOUT_CALLBACK_Calc/8_L_CC.jpeg'"
   ]
  },
  {
   "cell_type": "code",
   "execution_count": 100,
   "id": "398c1ae8",
   "metadata": {},
   "outputs": [],
   "source": [
    "img = cv2.imread(patch_path)"
   ]
  },
  {
   "cell_type": "code",
   "execution_count": 101,
   "id": "21b90163",
   "metadata": {},
   "outputs": [
    {
     "data": {
      "text/plain": [
       "0"
      ]
     },
     "execution_count": 101,
     "metadata": {},
     "output_type": "execute_result"
    }
   ],
   "source": [
    "gray = cv2.cvtColor(img, cv2.COLOR_BGR2GRAY)\n",
    "np.min(gray)"
   ]
  },
  {
   "cell_type": "code",
   "execution_count": 102,
   "id": "a870133f",
   "metadata": {},
   "outputs": [],
   "source": [
    "# set crop dim for cropping backgrounds\n",
    "dim_r = 550\n",
    "dim_c = 550\n",
    "stride = 275"
   ]
  },
  {
   "cell_type": "code",
   "execution_count": 103,
   "id": "ff4f1d9a",
   "metadata": {},
   "outputs": [],
   "source": [
    "def get_pixel_locations(binary_image):\n",
    "    locations = np.argwhere(binary_image == 255)\n",
    "    return locations\n",
    "\n",
    "def crop_image(image, a, b, s, mask_locations):\n",
    "    cropped_images = []\n",
    "    height, width, _ = image.shape\n",
    "    \n",
    "    for y in range(0, height - b + 1, s):\n",
    "        for x in range(0, width - a + 1, s):\n",
    "            # Check if any mask location falls within the cropping window\n",
    "            mask_in_cropped = False\n",
    "            for my, mx in mask_locations:\n",
    "                if y <= my < y + b and x <= mx < x + a:\n",
    "                    mask_in_cropped = True\n",
    "                    break\n",
    "            \n",
    "            if not mask_in_cropped:\n",
    "                cropped = image[y:y+b, x:x+a]\n",
    "                cropped_images.append(cropped)\n",
    "    \n",
    "    return cropped_images"
   ]
  },
  {
   "cell_type": "code",
   "execution_count": 104,
   "id": "7125bb51",
   "metadata": {},
   "outputs": [],
   "source": [
    "image_files = os.listdir(image_folder_path_m)\n",
    "\n",
    "n = 0\n",
    "for i in range(0, len(image_files), 10):\n",
    "    file_path = os.path.join(image_folder_path, image_name)\n",
    "    \n",
    "    # read image\n",
    "    img = cv2.imread(file_path)\n",
    "    \n",
    "    mask_path = os.path.join(mask_folder_path_m, image_name)\n",
    "    if os.path.exists(mask_path):\n",
    "        \n",
    "        # read mask\n",
    "        mask = cv2.imread(mask_path)\n",
    "        mask = cv2.cvtColor(mask, cv2.COLOR_BGR2GRAY)\n",
    "        \n",
    "        # get mask locations\n",
    "        mask_locations = get_pixel_locations(mask)\n",
    "        cropped_images = crop_image(img, dim_r, dim_c, stride, mask_locations)\n",
    "        \n",
    "        # write cropped image file\n",
    "        for cropped_img in cropped_images:\n",
    "            name = str(n) + 'm.jpeg'\n",
    "            dest_path = os.path.join(dest_folder_path, name)\n",
    "            cv2.imwrite(dest_path, cropped_img)\n",
    "            n += 1\n",
    "            \n",
    "    else:\n",
    "        print(f'file {mask_path} does not exist')"
   ]
  },
  {
   "cell_type": "code",
   "execution_count": 105,
   "id": "b14fdcac",
   "metadata": {},
   "outputs": [
    {
     "name": "stdout",
     "output_type": "stream",
     "text": [
      "file data/CBIS-DDSM/benign_without_callback/roi/BENIGN_WITHOUT_CALLBACK_Calc\\107_R_MLO.jpeg does not exist\n",
      "file data/CBIS-DDSM/benign_without_callback/roi/BENIGN_WITHOUT_CALLBACK_Calc\\107_R_MLO.jpeg does not exist\n",
      "file data/CBIS-DDSM/benign_without_callback/roi/BENIGN_WITHOUT_CALLBACK_Calc\\107_R_MLO.jpeg does not exist\n",
      "file data/CBIS-DDSM/benign_without_callback/roi/BENIGN_WITHOUT_CALLBACK_Calc\\107_R_MLO.jpeg does not exist\n",
      "file data/CBIS-DDSM/benign_without_callback/roi/BENIGN_WITHOUT_CALLBACK_Calc\\107_R_MLO.jpeg does not exist\n",
      "file data/CBIS-DDSM/benign_without_callback/roi/BENIGN_WITHOUT_CALLBACK_Calc\\107_R_MLO.jpeg does not exist\n",
      "file data/CBIS-DDSM/benign_without_callback/roi/BENIGN_WITHOUT_CALLBACK_Calc\\107_R_MLO.jpeg does not exist\n",
      "file data/CBIS-DDSM/benign_without_callback/roi/BENIGN_WITHOUT_CALLBACK_Calc\\107_R_MLO.jpeg does not exist\n",
      "file data/CBIS-DDSM/benign_without_callback/roi/BENIGN_WITHOUT_CALLBACK_Calc\\107_R_MLO.jpeg does not exist\n",
      "file data/CBIS-DDSM/benign_without_callback/roi/BENIGN_WITHOUT_CALLBACK_Calc\\107_R_MLO.jpeg does not exist\n",
      "file data/CBIS-DDSM/benign_without_callback/roi/BENIGN_WITHOUT_CALLBACK_Calc\\107_R_MLO.jpeg does not exist\n",
      "file data/CBIS-DDSM/benign_without_callback/roi/BENIGN_WITHOUT_CALLBACK_Calc\\107_R_MLO.jpeg does not exist\n",
      "file data/CBIS-DDSM/benign_without_callback/roi/BENIGN_WITHOUT_CALLBACK_Calc\\107_R_MLO.jpeg does not exist\n",
      "file data/CBIS-DDSM/benign_without_callback/roi/BENIGN_WITHOUT_CALLBACK_Calc\\107_R_MLO.jpeg does not exist\n",
      "file data/CBIS-DDSM/benign_without_callback/roi/BENIGN_WITHOUT_CALLBACK_Calc\\107_R_MLO.jpeg does not exist\n",
      "file data/CBIS-DDSM/benign_without_callback/roi/BENIGN_WITHOUT_CALLBACK_Calc\\107_R_MLO.jpeg does not exist\n",
      "file data/CBIS-DDSM/benign_without_callback/roi/BENIGN_WITHOUT_CALLBACK_Calc\\107_R_MLO.jpeg does not exist\n",
      "file data/CBIS-DDSM/benign_without_callback/roi/BENIGN_WITHOUT_CALLBACK_Calc\\107_R_MLO.jpeg does not exist\n",
      "file data/CBIS-DDSM/benign_without_callback/roi/BENIGN_WITHOUT_CALLBACK_Calc\\107_R_MLO.jpeg does not exist\n",
      "file data/CBIS-DDSM/benign_without_callback/roi/BENIGN_WITHOUT_CALLBACK_Calc\\107_R_MLO.jpeg does not exist\n",
      "file data/CBIS-DDSM/benign_without_callback/roi/BENIGN_WITHOUT_CALLBACK_Calc\\107_R_MLO.jpeg does not exist\n",
      "file data/CBIS-DDSM/benign_without_callback/roi/BENIGN_WITHOUT_CALLBACK_Calc\\107_R_MLO.jpeg does not exist\n",
      "file data/CBIS-DDSM/benign_without_callback/roi/BENIGN_WITHOUT_CALLBACK_Calc\\107_R_MLO.jpeg does not exist\n"
     ]
    }
   ],
   "source": [
    "image_files = os.listdir(image_folder_path_c)\n",
    "\n",
    "n = 0\n",
    "for i in range(0, len(image_files), 10):\n",
    "    file_path = os.path.join(image_folder_path, image_name)\n",
    "    \n",
    "    # read image\n",
    "    img = cv2.imread(file_path)\n",
    "    \n",
    "    mask_path = os.path.join(mask_folder_path_c, image_name)\n",
    "    if os.path.exists(mask_path):\n",
    "        \n",
    "        # read mask\n",
    "        mask = cv2.imread(mask_path)\n",
    "        mask = cv2.cvtColor(mask, cv2.COLOR_BGR2GRAY)\n",
    "        \n",
    "        # get mask locations\n",
    "        mask_locations = get_pixel_locations(mask)\n",
    "        cropped_images = crop_image(img, dim_r, dim_c, stride, mask_locations)\n",
    "        \n",
    "        # write cropped image file\n",
    "        for cropped_img in cropped_images:\n",
    "            name = str(n) + 'c.jpeg'\n",
    "            dest_path = os.path.join(dest_folder_path, name)\n",
    "            cv2.imwrite(dest_path, cropped_img)\n",
    "            n += 1\n",
    "            \n",
    "    else:\n",
    "        print(f'file {mask_path} does not exist')"
   ]
  }
 ],
 "metadata": {
  "kernelspec": {
   "display_name": "Python 3 (ipykernel)",
   "language": "python",
   "name": "python3"
  },
  "language_info": {
   "codemirror_mode": {
    "name": "ipython",
    "version": 3
   },
   "file_extension": ".py",
   "mimetype": "text/x-python",
   "name": "python",
   "nbconvert_exporter": "python",
   "pygments_lexer": "ipython3",
   "version": "3.8.0"
  }
 },
 "nbformat": 4,
 "nbformat_minor": 5
}
