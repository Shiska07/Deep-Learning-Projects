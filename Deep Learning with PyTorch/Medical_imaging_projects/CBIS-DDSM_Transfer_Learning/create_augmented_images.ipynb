{
 "cells": [
  {
   "cell_type": "code",
   "execution_count": 1,
   "id": "9119d882",
   "metadata": {},
   "outputs": [],
   "source": [
    "import os\n",
    "import sys\n",
    "import cv2\n",
    "import Augmentor\n",
    "import numpy as np\n",
    "import matplotlib.pyplot as plt\n",
    "%matplotlib inline"
   ]
  },
  {
   "cell_type": "code",
   "execution_count": 2,
   "id": "0c97ac8c",
   "metadata": {},
   "outputs": [
    {
     "name": "stdout",
     "output_type": "stream",
     "text": [
      "0.2.3\n"
     ]
    }
   ],
   "source": [
    "print(Augmentor.__version__)"
   ]
  },
  {
   "cell_type": "code",
   "execution_count": 13,
   "id": "6f9f63f9",
   "metadata": {},
   "outputs": [],
   "source": [
    "# provide image and mask folder\n",
    "src_folder = os.path.abspath('BACKGROUND')\n",
    "dst_folder = os.path.abspath('aug_BACKGROUND')"
   ]
  },
  {
   "cell_type": "code",
   "execution_count": 14,
   "id": "b63b5c29",
   "metadata": {},
   "outputs": [
    {
     "name": "stdout",
     "output_type": "stream",
     "text": [
      "Initialised with 824 image(s) found.\n",
      "Output directory set to C:\\Users\\shisk\\Desktop\\CBIS-AUG\\images\\train\\aug_BACKGROUND."
     ]
    }
   ],
   "source": [
    "# Create an Augmentor pipeline\n",
    "p = Augmentor.Pipeline(src_folder, dst_folder)"
   ]
  },
  {
   "cell_type": "code",
   "execution_count": 15,
   "id": "a00e05fd",
   "metadata": {},
   "outputs": [],
   "source": [
    "# Define augmentations\n",
    "p.flip_left_right(probability=0.5)\n",
    "p.flip_top_bottom(probability=0.5)\n",
    "p.zoom(probability=0.8, max_factor = 2.0, min_factor = 1.2)\n",
    "p.crop_random(probability=1, percentage_area = 0.7)\n",
    "p.random_brightness(probability=0.5, min_factor=0.8, max_factor=1.2)\n",
    "p.set_save_format(save_format=\"auto\")"
   ]
  },
  {
   "cell_type": "code",
   "execution_count": 16,
   "id": "6dbda39b",
   "metadata": {},
   "outputs": [
    {
     "name": "stderr",
     "output_type": "stream",
     "text": [
      "Processing <PIL.Image.Image image mode=RGB size=385x385 at 0x16506EE9CD0>: 100%|████████████| 3000/3000 [00:41<00:00, 71.68 Samples/s]\n"
     ]
    }
   ],
   "source": [
    "# Execute the augmentations\n",
    "p.sample(3000)"
   ]
  },
  {
   "cell_type": "code",
   "execution_count": null,
   "id": "de3a6ac5",
   "metadata": {},
   "outputs": [],
   "source": []
  }
 ],
 "metadata": {
  "kernelspec": {
   "display_name": "Python 3 (ipykernel)",
   "language": "python",
   "name": "python3"
  },
  "language_info": {
   "codemirror_mode": {
    "name": "ipython",
    "version": 3
   },
   "file_extension": ".py",
   "mimetype": "text/x-python",
   "name": "python",
   "nbconvert_exporter": "python",
   "pygments_lexer": "ipython3",
   "version": "3.8.0"
  }
 },
 "nbformat": 4,
 "nbformat_minor": 5
}
