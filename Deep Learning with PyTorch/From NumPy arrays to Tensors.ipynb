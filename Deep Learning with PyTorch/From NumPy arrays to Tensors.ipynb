{
 "cells": [
  {
   "cell_type": "code",
   "execution_count": 17,
   "id": "d119329a",
   "metadata": {},
   "outputs": [],
   "source": [
    "import numpy as np\n",
    "import pandas as pd\n",
    "import torch"
   ]
  },
  {
   "cell_type": "code",
   "execution_count": 18,
   "id": "b3f40a9d",
   "metadata": {},
   "outputs": [
    {
     "data": {
      "text/plain": [
       "'1.9.1+cpu'"
      ]
     },
     "execution_count": 18,
     "metadata": {},
     "output_type": "execute_result"
    }
   ],
   "source": [
    "torch.__version__"
   ]
  },
  {
   "cell_type": "code",
   "execution_count": 19,
   "id": "c75b2ae9",
   "metadata": {},
   "outputs": [],
   "source": [
    "arr = np.array(list(range(6)))"
   ]
  },
  {
   "cell_type": "code",
   "execution_count": 20,
   "id": "d91c4ebc",
   "metadata": {},
   "outputs": [
    {
     "data": {
      "text/plain": [
       "dtype('int32')"
      ]
     },
     "execution_count": 20,
     "metadata": {},
     "output_type": "execute_result"
    }
   ],
   "source": [
    "arr.dtype"
   ]
  },
  {
   "cell_type": "code",
   "execution_count": 21,
   "id": "d5f20125",
   "metadata": {},
   "outputs": [
    {
     "data": {
      "text/plain": [
       "numpy.ndarray"
      ]
     },
     "execution_count": 21,
     "metadata": {},
     "output_type": "execute_result"
    }
   ],
   "source": [
    "type(arr)"
   ]
  },
  {
   "cell_type": "markdown",
   "id": "7c058edd",
   "metadata": {},
   "source": [
    "### Converting to a tensor"
   ]
  },
  {
   "cell_type": "code",
   "execution_count": 22,
   "id": "f454b3d4",
   "metadata": {},
   "outputs": [
    {
     "data": {
      "text/plain": [
       "tensor([0, 1, 2, 3, 4, 5], dtype=torch.int32)"
      ]
     },
     "execution_count": 22,
     "metadata": {},
     "output_type": "execute_result"
    }
   ],
   "source": [
    "torch.from_numpy(arr)"
   ]
  },
  {
   "cell_type": "code",
   "execution_count": 23,
   "id": "71359b82",
   "metadata": {},
   "outputs": [
    {
     "data": {
      "text/plain": [
       "tensor([0, 1, 2, 3, 4, 5], dtype=torch.int32)"
      ]
     },
     "execution_count": 23,
     "metadata": {},
     "output_type": "execute_result"
    }
   ],
   "source": [
    "torch.as_tensor(arr)"
   ]
  },
  {
   "cell_type": "code",
   "execution_count": 24,
   "id": "768589e7",
   "metadata": {},
   "outputs": [
    {
     "data": {
      "text/plain": [
       "torch.int32"
      ]
     },
     "execution_count": 24,
     "metadata": {},
     "output_type": "execute_result"
    }
   ],
   "source": [
    "x = torch.as_tensor(arr)\n",
    "x.dtype"
   ]
  },
  {
   "cell_type": "code",
   "execution_count": 25,
   "id": "a8f895d2",
   "metadata": {},
   "outputs": [
    {
     "data": {
      "text/plain": [
       "array([[0.32615514, 0.14428352],\n",
       "       [0.25028259, 0.33979691]])"
      ]
     },
     "execution_count": 25,
     "metadata": {},
     "output_type": "execute_result"
    }
   ],
   "source": [
    "x2d = np.random.rand(2, 2)\n",
    "x2d"
   ]
  },
  {
   "cell_type": "code",
   "execution_count": 26,
   "id": "55a19caa",
   "metadata": {},
   "outputs": [
    {
     "data": {
      "text/plain": [
       "tensor([[0.3262, 0.1443],\n",
       "        [0.2503, 0.3398]], dtype=torch.float64)"
      ]
     },
     "execution_count": 26,
     "metadata": {},
     "output_type": "execute_result"
    }
   ],
   "source": [
    "torch.from_numpy(x2d)"
   ]
  },
  {
   "cell_type": "code",
   "execution_count": 27,
   "id": "36b062f0",
   "metadata": {},
   "outputs": [],
   "source": [
    "x2d_tensor = torch.from_numpy(x2d)"
   ]
  },
  {
   "cell_type": "markdown",
   "id": "96ad3523",
   "metadata": {},
   "source": [
    "### Note how if you change the original numpy array, the associated tensor also changes."
   ]
  },
  {
   "cell_type": "code",
   "execution_count": 29,
   "id": "b45d45a7",
   "metadata": {},
   "outputs": [
    {
     "data": {
      "text/plain": [
       "array([[99.        ,  0.14428352],\n",
       "       [ 0.25028259,  0.33979691]])"
      ]
     },
     "execution_count": 29,
     "metadata": {},
     "output_type": "execute_result"
    }
   ],
   "source": [
    "x2d[0][0] = 99\n",
    "x2d"
   ]
  },
  {
   "cell_type": "code",
   "execution_count": 30,
   "id": "9f48f33b",
   "metadata": {},
   "outputs": [
    {
     "data": {
      "text/plain": [
       "tensor([[99.0000,  0.1443],\n",
       "        [ 0.2503,  0.3398]], dtype=torch.float64)"
      ]
     },
     "execution_count": 30,
     "metadata": {},
     "output_type": "execute_result"
    }
   ],
   "source": [
    "x2d_tensor"
   ]
  },
  {
   "cell_type": "markdown",
   "id": "a09c2020",
   "metadata": {},
   "source": [
    "### To avoid this use 'torch.tensor' instead"
   ]
  },
  {
   "cell_type": "code",
   "execution_count": 31,
   "id": "4cceff2c",
   "metadata": {},
   "outputs": [
    {
     "data": {
      "text/plain": [
       "array([[0.25785228, 0.59902513, 0.42127665],\n",
       "       [0.87914926, 0.7526591 , 0.85254977],\n",
       "       [0.24338186, 0.31437408, 0.56519395]])"
      ]
     },
     "execution_count": 31,
     "metadata": {},
     "output_type": "execute_result"
    }
   ],
   "source": [
    "arr = np.random.rand(3,3)\n",
    "arr"
   ]
  },
  {
   "cell_type": "code",
   "execution_count": 32,
   "id": "64e74de0",
   "metadata": {},
   "outputs": [
    {
     "data": {
      "text/plain": [
       "tensor([[0.2579, 0.5990, 0.4213],\n",
       "        [0.8791, 0.7527, 0.8525],\n",
       "        [0.2434, 0.3144, 0.5652]], dtype=torch.float64)"
      ]
     },
     "execution_count": 32,
     "metadata": {},
     "output_type": "execute_result"
    }
   ],
   "source": [
    "arr_tensor = torch.tensor(arr)\n",
    "arr_tensor"
   ]
  },
  {
   "cell_type": "code",
   "execution_count": 33,
   "id": "4f2bc480",
   "metadata": {},
   "outputs": [
    {
     "data": {
      "text/plain": [
       "array([[99.        ,  0.59902513,  0.42127665],\n",
       "       [ 0.87914926,  0.7526591 ,  0.85254977],\n",
       "       [ 0.24338186,  0.31437408,  0.56519395]])"
      ]
     },
     "execution_count": 33,
     "metadata": {},
     "output_type": "execute_result"
    }
   ],
   "source": [
    "arr[0][0] = 99\n",
    "arr"
   ]
  },
  {
   "cell_type": "code",
   "execution_count": 34,
   "id": "c9319e5d",
   "metadata": {},
   "outputs": [
    {
     "data": {
      "text/plain": [
       "tensor([[0.2579, 0.5990, 0.4213],\n",
       "        [0.8791, 0.7527, 0.8525],\n",
       "        [0.2434, 0.3144, 0.5652]], dtype=torch.float64)"
      ]
     },
     "execution_count": 34,
     "metadata": {},
     "output_type": "execute_result"
    }
   ],
   "source": [
    "arr_tensor"
   ]
  },
  {
   "cell_type": "markdown",
   "id": "1304277a",
   "metadata": {},
   "source": [
    "### 'torch.tensor' vs 'torch.Tensor'"
   ]
  },
  {
   "cell_type": "code",
   "execution_count": 35,
   "id": "f9970476",
   "metadata": {},
   "outputs": [
    {
     "data": {
      "text/plain": [
       "array([1, 2, 3])"
      ]
     },
     "execution_count": 35,
     "metadata": {},
     "output_type": "execute_result"
    }
   ],
   "source": [
    "int_arr = np.array([1,2,3])\n",
    "int_arr"
   ]
  },
  {
   "cell_type": "code",
   "execution_count": 36,
   "id": "253c49b2",
   "metadata": {},
   "outputs": [
    {
     "data": {
      "text/plain": [
       "tensor([1, 2, 3], dtype=torch.int32)"
      ]
     },
     "execution_count": 36,
     "metadata": {},
     "output_type": "execute_result"
    }
   ],
   "source": [
    "# 'int' datatype retained\n",
    "torch.tensor(int_arr)"
   ]
  },
  {
   "cell_type": "code",
   "execution_count": 37,
   "id": "5d5ab866",
   "metadata": {},
   "outputs": [
    {
     "data": {
      "text/plain": [
       "tensor([1., 2., 3.])"
      ]
     },
     "execution_count": 37,
     "metadata": {},
     "output_type": "execute_result"
    }
   ],
   "source": [
    "# converted to float\n",
    "torch.Tensor(int_arr)"
   ]
  },
  {
   "cell_type": "code",
   "execution_count": 38,
   "id": "565aeb8a",
   "metadata": {},
   "outputs": [
    {
     "data": {
      "text/plain": [
       "torch.float32"
      ]
     },
     "execution_count": 38,
     "metadata": {},
     "output_type": "execute_result"
    }
   ],
   "source": [
    "torch.Tensor(int_arr).dtype"
   ]
  },
  {
   "cell_type": "markdown",
   "id": "831c2f2d",
   "metadata": {},
   "source": [
    "## Initializing tensors from scratch"
   ]
  },
  {
   "cell_type": "code",
   "execution_count": 39,
   "id": "879cf5e9",
   "metadata": {},
   "outputs": [
    {
     "data": {
      "text/plain": [
       "tensor([[1.0469e-38, 9.3674e-39, 9.9184e-39, 8.7245e-39],\n",
       "        [9.2755e-39, 8.9082e-39, 9.9184e-39, 8.4490e-39],\n",
       "        [9.6429e-39, 1.0653e-38, 1.0469e-38, 4.2246e-39],\n",
       "        [1.0378e-38, 9.6429e-39, 9.2755e-39, 9.7346e-39]])"
      ]
     },
     "execution_count": 39,
     "metadata": {},
     "output_type": "execute_result"
    }
   ],
   "source": [
    "torch.empty(4, 4)"
   ]
  },
  {
   "cell_type": "code",
   "execution_count": 40,
   "id": "b8611909",
   "metadata": {},
   "outputs": [
    {
     "data": {
      "text/plain": [
       "tensor([[0., 0., 0.],\n",
       "        [0., 0., 0.],\n",
       "        [0., 0., 0.]])"
      ]
     },
     "execution_count": 40,
     "metadata": {},
     "output_type": "execute_result"
    }
   ],
   "source": [
    "torch.zeros(3, 3)"
   ]
  },
  {
   "cell_type": "code",
   "execution_count": 42,
   "id": "effa34ea",
   "metadata": {},
   "outputs": [
    {
     "data": {
      "text/plain": [
       "tensor([[0, 0],\n",
       "        [0, 0]], dtype=torch.int8)"
      ]
     },
     "execution_count": 42,
     "metadata": {},
     "output_type": "execute_result"
    }
   ],
   "source": [
    "torch.zeros(2, 2, dtype = torch.int8)"
   ]
  },
  {
   "cell_type": "code",
   "execution_count": 43,
   "id": "efebcd0a",
   "metadata": {},
   "outputs": [
    {
     "data": {
      "text/plain": [
       "tensor([[1., 1., 1.],\n",
       "        [1., 1., 1.]])"
      ]
     },
     "execution_count": 43,
     "metadata": {},
     "output_type": "execute_result"
    }
   ],
   "source": [
    "torch.ones(2, 3)"
   ]
  },
  {
   "cell_type": "code",
   "execution_count": 44,
   "id": "4899562a",
   "metadata": {},
   "outputs": [
    {
     "data": {
      "text/plain": [
       "tensor([0, 1, 2, 3, 4, 5])"
      ]
     },
     "execution_count": 44,
     "metadata": {},
     "output_type": "execute_result"
    }
   ],
   "source": [
    "torch.arange(6)"
   ]
  },
  {
   "cell_type": "code",
   "execution_count": 46,
   "id": "c8f103c7",
   "metadata": {},
   "outputs": [
    {
     "data": {
      "text/plain": [
       "tensor([0.0000, 0.6000, 1.2000, 1.8000, 2.4000, 3.0000])"
      ]
     },
     "execution_count": 46,
     "metadata": {},
     "output_type": "execute_result"
    }
   ],
   "source": [
    "torch.linspace(0, 3, 6)"
   ]
  },
  {
   "cell_type": "code",
   "execution_count": 47,
   "id": "ceef340a",
   "metadata": {},
   "outputs": [
    {
     "data": {
      "text/plain": [
       "tensor([[0.0000, 0.6000],\n",
       "        [1.2000, 1.8000],\n",
       "        [2.4000, 3.0000]])"
      ]
     },
     "execution_count": 47,
     "metadata": {},
     "output_type": "execute_result"
    }
   ],
   "source": [
    "torch.linspace(0, 3, 6).reshape(3, 2)"
   ]
  },
  {
   "cell_type": "code",
   "execution_count": 48,
   "id": "b1b57458",
   "metadata": {},
   "outputs": [
    {
     "data": {
      "text/plain": [
       "tensor([[0.2579, 0.5990, 0.4213],\n",
       "        [0.8791, 0.7527, 0.8525],\n",
       "        [0.2434, 0.3144, 0.5652]], dtype=torch.float64)"
      ]
     },
     "execution_count": 48,
     "metadata": {},
     "output_type": "execute_result"
    }
   ],
   "source": [
    "arr_tensor"
   ]
  },
  {
   "cell_type": "code",
   "execution_count": 51,
   "id": "3d446641",
   "metadata": {},
   "outputs": [],
   "source": [
    "arr_tensor = arr_tensor.type(torch.float32)"
   ]
  },
  {
   "cell_type": "code",
   "execution_count": 53,
   "id": "847e686d",
   "metadata": {},
   "outputs": [
    {
     "data": {
      "text/plain": [
       "torch.float32"
      ]
     },
     "execution_count": 53,
     "metadata": {},
     "output_type": "execute_result"
    }
   ],
   "source": [
    "arr_tensor.dtype"
   ]
  },
  {
   "cell_type": "markdown",
   "id": "51f3c9a1",
   "metadata": {},
   "source": [
    "## Random Initialization"
   ]
  },
  {
   "cell_type": "code",
   "execution_count": 54,
   "id": "8f6124e3",
   "metadata": {},
   "outputs": [
    {
     "data": {
      "text/plain": [
       "tensor([[0.0072, 0.1742, 0.4127],\n",
       "        [0.7778, 0.9319, 0.6332],\n",
       "        [0.1942, 0.2195, 0.1146]])"
      ]
     },
     "execution_count": 54,
     "metadata": {},
     "output_type": "execute_result"
    }
   ],
   "source": [
    "# uniform\n",
    "torch.rand(3, 3)"
   ]
  },
  {
   "cell_type": "code",
   "execution_count": 55,
   "id": "15329b28",
   "metadata": {},
   "outputs": [
    {
     "data": {
      "text/plain": [
       "tensor([[-0.4248,  0.7113,  0.6898],\n",
       "        [ 1.8814, -0.0493,  0.3274],\n",
       "        [-0.9385,  0.0315, -0.1337]])"
      ]
     },
     "execution_count": 55,
     "metadata": {},
     "output_type": "execute_result"
    }
   ],
   "source": [
    "# standard normal\n",
    "torch.randn(3, 3)"
   ]
  },
  {
   "cell_type": "code",
   "execution_count": 57,
   "id": "506809b8",
   "metadata": {},
   "outputs": [
    {
     "data": {
      "text/plain": [
       "tensor([[ 1, 32, 49],\n",
       "        [41, 44, 23],\n",
       "        [32, 18, 15]])"
      ]
     },
     "execution_count": 57,
     "metadata": {},
     "output_type": "execute_result"
    }
   ],
   "source": [
    "# random integers in a range\n",
    "torch.randint(0, 55, (3, 3))"
   ]
  },
  {
   "cell_type": "code",
   "execution_count": 58,
   "id": "3e24cc8f",
   "metadata": {},
   "outputs": [
    {
     "data": {
      "text/plain": [
       "tensor([[0.9266, 0.2120, 0.5296],\n",
       "        [0.0780, 0.5807, 0.1534],\n",
       "        [0.9366, 0.6469, 0.7768]])"
      ]
     },
     "execution_count": 58,
     "metadata": {},
     "output_type": "execute_result"
    }
   ],
   "source": [
    "torch.rand_like(arr_tensor)"
   ]
  },
  {
   "cell_type": "code",
   "execution_count": 59,
   "id": "fb65177c",
   "metadata": {},
   "outputs": [
    {
     "data": {
      "text/plain": [
       "tensor([[ 0.3367,  0.1288,  0.2345],\n",
       "        [ 0.2303, -1.1229, -0.1863],\n",
       "        [ 2.2082, -0.6380,  0.4617]])"
      ]
     },
     "execution_count": 59,
     "metadata": {},
     "output_type": "execute_result"
    }
   ],
   "source": [
    "# with seed\n",
    "torch.manual_seed(42)\n",
    "torch.randn(3, 3)"
   ]
  },
  {
   "cell_type": "code",
   "execution_count": 60,
   "id": "c1b67758",
   "metadata": {},
   "outputs": [
    {
     "data": {
      "text/plain": [
       "tensor([[ 0.3367,  0.1288,  0.2345],\n",
       "        [ 0.2303, -1.1229, -0.1863],\n",
       "        [ 2.2082, -0.6380,  0.4617]])"
      ]
     },
     "execution_count": 60,
     "metadata": {},
     "output_type": "execute_result"
    }
   ],
   "source": [
    "# with seed\n",
    "torch.manual_seed(42)\n",
    "torch.randn(3, 3)"
   ]
  },
  {
   "cell_type": "code",
   "execution_count": null,
   "id": "75172087",
   "metadata": {},
   "outputs": [],
   "source": []
  }
 ],
 "metadata": {
  "kernelspec": {
   "display_name": "Python [conda env:pytorch_env]",
   "language": "python",
   "name": "conda-env-pytorch_env-py"
  },
  "language_info": {
   "codemirror_mode": {
    "name": "ipython",
    "version": 3
   },
   "file_extension": ".py",
   "mimetype": "text/x-python",
   "name": "python",
   "nbconvert_exporter": "python",
   "pygments_lexer": "ipython3",
   "version": "3.8.0"
  }
 },
 "nbformat": 4,
 "nbformat_minor": 5
}
