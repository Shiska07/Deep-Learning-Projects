{
 "cells": [
  {
   "cell_type": "code",
   "execution_count": 1,
   "id": "08fb83c2",
   "metadata": {},
   "outputs": [
    {
     "name": "stderr",
     "output_type": "stream",
     "text": [
      "<frozen importlib._bootstrap>:219: RuntimeWarning: scipy._lib.messagestream.MessageStream size changed, may indicate binary incompatibility. Expected 56 from C header, got 64 from PyObject\n"
     ]
    }
   ],
   "source": [
    "import numpy as np\n",
    "import pandas as pd\n",
    "from sklearn.metrics import confusion_matrix\n",
    "import matplotlib.pyplot as plt\n",
    "%matplotlib inline"
   ]
  },
  {
   "cell_type": "code",
   "execution_count": 2,
   "id": "52b7342f",
   "metadata": {},
   "outputs": [],
   "source": [
    "import torch\n",
    "import torch.nn as nn\n",
    "import torch.nn.functional as F\n",
    "from torch.utils.data import DataLoader\n",
    "from torchvision import datasets, transforms\n",
    "from torchvision.utils import make_grid"
   ]
  },
  {
   "cell_type": "code",
   "execution_count": 3,
   "id": "ca1eec32",
   "metadata": {},
   "outputs": [],
   "source": [
    "transform = transforms.ToTensor()"
   ]
  },
  {
   "cell_type": "code",
   "execution_count": 4,
   "id": "1401d8e9",
   "metadata": {},
   "outputs": [
    {
     "name": "stderr",
     "output_type": "stream",
     "text": [
      "C:\\Users\\shisk\\anaconda3\\envs\\pytorch_env\\lib\\site-packages\\torchvision\\datasets\\mnist.py:498: UserWarning: The given NumPy array is not writeable, and PyTorch does not support non-writeable tensors. This means you can write to the underlying (supposedly non-writeable) NumPy array using the tensor. You may want to copy the array to protect its data or make it writeable before converting it to a tensor. This type of warning will be suppressed for the rest of this program. (Triggered internally at  ..\\torch\\csrc\\utils\\tensor_numpy.cpp:180.)\n",
      "  return torch.from_numpy(parsed.astype(m[2], copy=False)).view(*s)\n"
     ]
    }
   ],
   "source": [
    "train_data = datasets.MNIST(root='Data', train=True, download=True, transform=transform)\n",
    "test_data = datasets.MNIST(root='Data', train=False, download=True, transform=transform)"
   ]
  },
  {
   "cell_type": "code",
   "execution_count": 5,
   "id": "2bff68ff",
   "metadata": {},
   "outputs": [
    {
     "data": {
      "text/plain": [
       "Dataset MNIST\n",
       "    Number of datapoints: 60000\n",
       "    Root location: Data\n",
       "    Split: Train\n",
       "    StandardTransform\n",
       "Transform: ToTensor()"
      ]
     },
     "execution_count": 5,
     "metadata": {},
     "output_type": "execute_result"
    }
   ],
   "source": [
    "train_data"
   ]
  },
  {
   "cell_type": "code",
   "execution_count": 6,
   "id": "a27c209b",
   "metadata": {},
   "outputs": [
    {
     "data": {
      "text/plain": [
       "Dataset MNIST\n",
       "    Number of datapoints: 10000\n",
       "    Root location: Data\n",
       "    Split: Test\n",
       "    StandardTransform\n",
       "Transform: ToTensor()"
      ]
     },
     "execution_count": 6,
     "metadata": {},
     "output_type": "execute_result"
    }
   ],
   "source": [
    "test_data"
   ]
  },
  {
   "cell_type": "code",
   "execution_count": 7,
   "id": "ebc9c84c",
   "metadata": {},
   "outputs": [],
   "source": [
    "train_loader = DataLoader(train_data, batch_size=10, shuffle=True)\n",
    "test_loader = DataLoader(test_data, batch_size=10)"
   ]
  },
  {
   "cell_type": "code",
   "execution_count": 8,
   "id": "2ef2e37d",
   "metadata": {},
   "outputs": [
    {
     "data": {
      "text/plain": [
       "6000"
      ]
     },
     "execution_count": 8,
     "metadata": {},
     "output_type": "execute_result"
    }
   ],
   "source": [
    "len(train_loader)"
   ]
  },
  {
   "cell_type": "code",
   "execution_count": 9,
   "id": "fa3df778",
   "metadata": {},
   "outputs": [
    {
     "data": {
      "text/plain": [
       "1000"
      ]
     },
     "execution_count": 9,
     "metadata": {},
     "output_type": "execute_result"
    }
   ],
   "source": [
    "len(test_loader)"
   ]
  },
  {
   "cell_type": "markdown",
   "id": "de35ef4d",
   "metadata": {},
   "source": [
    "### Define CNN Architecture"
   ]
  },
  {
   "cell_type": "code",
   "execution_count": 24,
   "id": "daa12898",
   "metadata": {},
   "outputs": [],
   "source": [
    "class ConvolutionalNetwork(nn.Module):\n",
    "    def __init__(self):\n",
    "        super().__init__()\n",
    "        self.conv1 = nn.Conv2d(1, 6, 3, 1)\n",
    "        self.conv2 = nn.Conv2d(6, 16, 3, 1)\n",
    "        self.fc1 = nn.Linear(5*5*16, 120)\n",
    "        self.fc2 = nn.Linear(120, 84)\n",
    "        self.fc3 = nn.Linear(84,10)\n",
    "\n",
    "    def forward(self, X):\n",
    "        X = F.relu(self.conv1(X))\n",
    "        X = F.max_pool2d(X, 2, 2)\n",
    "        X = F.relu(self.conv2(X))\n",
    "        X = F.max_pool2d(X, 2, 2)\n",
    "        X = X.view(-1, 5*5*16)\n",
    "        X = F.relu(self.fc1(X))\n",
    "        X = F.relu(self.fc2(X))\n",
    "        X = self.fc3(X)\n",
    "        return F.log_softmax(X, dim=1)"
   ]
  },
  {
   "cell_type": "code",
   "execution_count": 25,
   "id": "2a9a02e5",
   "metadata": {},
   "outputs": [
    {
     "data": {
      "text/plain": [
       "ConvolutionalNetwork(\n",
       "  (conv1): Conv2d(1, 6, kernel_size=(3, 3), stride=(1, 1))\n",
       "  (conv2): Conv2d(6, 16, kernel_size=(3, 3), stride=(1, 1))\n",
       "  (fc1): Linear(in_features=400, out_features=120, bias=True)\n",
       "  (fc2): Linear(in_features=120, out_features=84, bias=True)\n",
       "  (fc3): Linear(in_features=84, out_features=10, bias=True)\n",
       ")"
      ]
     },
     "execution_count": 25,
     "metadata": {},
     "output_type": "execute_result"
    }
   ],
   "source": [
    "torch.manual_seed(42)\n",
    "model = ConvolutionalNetwork()\n",
    "model"
   ]
  },
  {
   "cell_type": "code",
   "execution_count": 27,
   "id": "c4554642",
   "metadata": {},
   "outputs": [
    {
     "name": "stdout",
     "output_type": "stream",
     "text": [
      "total parameters: 60074\n"
     ]
    }
   ],
   "source": [
    "total_params = 0\n",
    "for param in model.parameters():\n",
    "    total_params+=param.numel()\n",
    "    \n",
    "print(f'total parameters: {total_params}')"
   ]
  },
  {
   "cell_type": "code",
   "execution_count": 28,
   "id": "6465c1cb",
   "metadata": {},
   "outputs": [],
   "source": [
    "criterion = nn.CrossEntropyLoss()\n",
    "optimizer = torch.optim.Adam(model.parameters(), lr=0.001)"
   ]
  },
  {
   "cell_type": "code",
   "execution_count": 33,
   "id": "3413a300",
   "metadata": {},
   "outputs": [
    {
     "name": "stdout",
     "output_type": "stream",
     "text": [
      "epoch:0 batch:600 loss:4.0981420170282945e-05\n",
      "epoch:0 batch:1200 loss:0.002016084734350443\n",
      "epoch:0 batch:1800 loss:0.00040841015288606286\n",
      "epoch:0 batch:2400 loss:0.0005360080976970494\n",
      "epoch:0 batch:3000 loss:0.001113468548282981\n",
      "epoch:0 batch:3600 loss:0.17167013883590698\n",
      "epoch:0 batch:4200 loss:9.086998034035787e-05\n",
      "epoch:0 batch:4800 loss:5.294506627251394e-05\n",
      "epoch:0 batch:5400 loss:0.016773637384176254\n",
      "epoch:0 batch:6000 loss:0.0024925211910158396\n",
      "epoch:1 batch:600 loss:0.0011193571845069528\n",
      "epoch:1 batch:1200 loss:0.0006056752172298729\n",
      "epoch:1 batch:1800 loss:0.00013248043251223862\n",
      "epoch:1 batch:2400 loss:0.0007207891321741045\n",
      "epoch:1 batch:3000 loss:0.02356339432299137\n",
      "epoch:1 batch:3600 loss:0.0023093644995242357\n",
      "epoch:1 batch:4200 loss:0.0008823525859043002\n",
      "epoch:1 batch:4800 loss:0.3251186013221741\n",
      "epoch:1 batch:5400 loss:0.00019341557344887406\n",
      "epoch:1 batch:6000 loss:0.00013883234350942075\n",
      "epoch:2 batch:600 loss:0.0001860637858044356\n",
      "epoch:2 batch:1200 loss:0.1498236358165741\n",
      "epoch:2 batch:1800 loss:0.00011501655535539612\n",
      "epoch:2 batch:2400 loss:0.0005744390073232353\n",
      "epoch:2 batch:3000 loss:0.007800867315381765\n",
      "epoch:2 batch:3600 loss:6.165050581330433e-05\n",
      "epoch:2 batch:4200 loss:0.018319668248295784\n",
      "epoch:2 batch:4800 loss:0.0003027365019079298\n",
      "epoch:2 batch:5400 loss:0.0018158374587073922\n",
      "epoch:2 batch:6000 loss:5.2550916734617203e-05\n",
      "Training time: 5.449650144577026 minutes\n"
     ]
    }
   ],
   "source": [
    "import time\n",
    "start_time = time.time()\n",
    "\n",
    "epochs = 3\n",
    "train_losses = []\n",
    "test_losses = []\n",
    "train_correct = []\n",
    "test_correct = []\n",
    "\n",
    "for i in range(epochs):\n",
    "    trn_corr = 0\n",
    "    tst_corr = 0\n",
    "    \n",
    "    for b, (X_train, y_train) in enumerate(train_loader):\n",
    "        b+=1\n",
    "        \n",
    "        y_pred = model(X_train)\n",
    "        loss = criterion(y_pred, y_train)\n",
    "        \n",
    "        predicted_class = torch.max(y_pred.data, 1)[1]\n",
    "        batch_corr = (predicted_class == y_train).sum()\n",
    "        trn_corr+=batch_corr\n",
    "        \n",
    "        # update params\n",
    "        optimizer.zero_grad()     # clear gradients since this is a new batch\n",
    "        loss.backward()           # calculate gradients for given batch loss\n",
    "        optimizer.step()          # apply gradients and update parameters\n",
    "        \n",
    "        if b%600 == 0:\n",
    "            print(f'epoch:{i} batch:{b} loss:{loss.item()}')\n",
    "    \n",
    "    # for each epoch\n",
    "    train_losses.append(loss.item()) # use '.item()' to convert tensor to number\n",
    "    train_correct.append(trn_corr.item())\n",
    "\n",
    "    # test after each epoch\n",
    "    # use 'no_grad' since we won't be using loss.backward() with test 'y_val' to save memory\n",
    "    with torch.no_grad():\n",
    "        for b, (X_test, y_test) in enumerate(test_loader):\n",
    "            \n",
    "            y_val = model(X_test)\n",
    "            \n",
    "            predicted_class = torch.max(y_val.data, 1)[1]\n",
    "            tst_corr += (predicted_class == y_test).sum()\n",
    "    \n",
    "    # get test loss\n",
    "    loss = criterion(y_val, y_test)\n",
    "    test_losses.append(loss)        # don't need '.item()' as gradients were not calculated\n",
    "    test_correct.append(tst_corr)\n",
    "\n",
    "curr_time = time.time()\n",
    "total_elapsed = curr_time - start_time\n",
    "print(f'Training time: {total_elapsed/60} minutes')"
   ]
  },
  {
   "cell_type": "markdown",
   "id": "18b30cf3",
   "metadata": {},
   "source": [
    "### Plot Losses"
   ]
  },
  {
   "cell_type": "code",
   "execution_count": 34,
   "id": "c464cd53",
   "metadata": {},
   "outputs": [
    {
     "data": {
      "text/plain": [
       "<matplotlib.legend.Legend at 0x2bd748411f0>"
      ]
     },
     "execution_count": 34,
     "metadata": {},
     "output_type": "execute_result"
    },
    {
     "data": {
      "image/png": "[encoded data removed]",
      "text/plain": [
       "<Figure size 576x432 with 1 Axes>"
      ]
     },
     "metadata": {
      "needs_background": "light"
     },
     "output_type": "display_data"
    }
   ],
   "source": [
    "plt.figure(figsize = (8, 6))\n",
    "plt.plot(train_losses, label='train loss')\n",
    "plt.plot(test_losses, label = 'validation loss')\n",
    "plt.title('loss at the end of each epoch')\n",
    "plt.legend()"
   ]
  },
  {
   "cell_type": "code",
   "execution_count": 35,
   "id": "b97a3a28",
   "metadata": {},
   "outputs": [
    {
     "data": {
      "image/png": "[encoded data removed]",
      "text/plain": [
       "<Figure size 576x432 with 1 Axes>"
      ]
     },
     "metadata": {
      "needs_background": "light"
     },
     "output_type": "display_data"
    }
   ],
   "source": [
    "plt.figure(figsize = (8, 6))\n",
    "plt.plot([t/600 for t in train_correct], label='training accuracy')\n",
    "plt.plot([t/100 for t in test_correct], label='validation accuracy')\n",
    "plt.title('Accuracy at the end of each epoch')\n",
    "plt.legend();"
   ]
  },
  {
   "cell_type": "markdown",
   "id": "c01c8950",
   "metadata": {},
   "source": [
    "### Evaluate entire test data"
   ]
  },
  {
   "cell_type": "code",
   "execution_count": 37,
   "id": "f9dba677",
   "metadata": {},
   "outputs": [],
   "source": [
    "test_load_all = DataLoader(test_data, batch_size=10000, shuffle=False)"
   ]
  },
  {
   "cell_type": "code",
   "execution_count": 39,
   "id": "fbe6699b",
   "metadata": {},
   "outputs": [],
   "source": [
    "with torch.no_grad():\n",
    "    correct = 0\n",
    "    for X_test, y_test in test_load_all:\n",
    "        y_val = model(X_test)\n",
    "        pred_class = torch.max(y_val, 1)[1]\n",
    "        correct += (pred_class == y_test).sum()"
   ]
  },
  {
   "cell_type": "code",
   "execution_count": 40,
   "id": "ae9f32a9",
   "metadata": {},
   "outputs": [
    {
     "name": "stdout",
     "output_type": "stream",
     "text": [
      "Accuracy: 0.9866\n"
     ]
    }
   ],
   "source": [
    "print(f'Accuracy: {correct.item()/len(test_data)}')"
   ]
  },
  {
   "cell_type": "code",
   "execution_count": 42,
   "id": "aed7782e",
   "metadata": {},
   "outputs": [
    {
     "name": "stdout",
     "output_type": "stream",
     "text": [
      "[[   0    1    2    3    4    5    6    7    8    9]]\n",
      "\n",
      "[[ 966    0    1    0    0    0    0    0    0    0]\n",
      " [   1 1122    0    1    0    0    0    4    0    2]\n",
      " [   2    0 1017    0    0    0    0    2    2    0]\n",
      " [   0    1    0  993    0    7    0    0    1    1]\n",
      " [   0    1    2    0  972    0    1    1    1    3]\n",
      " [   0    0    0    4    0  878    5    0    1    7]\n",
      " [   7    7    0    0    3    1  951    0    1    0]\n",
      " [   2    2   10    8    0    1    0 1018    2    6]\n",
      " [   1    2    2    4    1    4    1    1  965    6]\n",
      " [   1    0    0    0    6    1    0    2    1  984]]\n"
     ]
    }
   ],
   "source": [
    "# print a row of values for reference\n",
    "np.set_printoptions(formatter=dict(int=lambda x: f'{x:4}'))\n",
    "print(np.arange(10).reshape(1,10))\n",
    "print()\n",
    "\n",
    "# print the confusion matrix\n",
    "print(confusion_matrix(pred_class.view(-1), y_test.view(-1)))"
   ]
  },
  {
   "cell_type": "markdown",
   "id": "1f30b25e",
   "metadata": {},
   "source": [
    "### Evaluation on single data"
   ]
  },
  {
   "cell_type": "code",
   "execution_count": 43,
   "id": "ef016641",
   "metadata": {},
   "outputs": [
    {
     "data": {
      "image/png": "[encoded data removed]",
      "text/plain": [
       "<Figure size 72x72 with 1 Axes>"
      ]
     },
     "metadata": {
      "needs_background": "light"
     },
     "output_type": "display_data"
    }
   ],
   "source": [
    "x = 150\n",
    "plt.figure(figsize=(1,1))\n",
    "plt.imshow(test_data[x][0].reshape((28,28)), cmap=\"gist_yarg\");"
   ]
  },
  {
   "cell_type": "code",
   "execution_count": 44,
   "id": "6da8ba4c",
   "metadata": {},
   "outputs": [
    {
     "name": "stdout",
     "output_type": "stream",
     "text": [
      "Predicted value: 9\n"
     ]
    }
   ],
   "source": [
    "'''\n",
    "As we don't any dropout or regularization layers during testing or evaluation, running model.eval() makes\n",
    "sure these layers are turned off and the network is ready to be tested.\n",
    "'''\n",
    "model.eval()\n",
    "with torch.no_grad():\n",
    "    new_pred = model(test_data[x][0].view(1,1,28,28)).argmax()\n",
    "print(\"Predicted value:\",new_pred.item())"
   ]
  },
  {
   "cell_type": "code",
   "execution_count": null,
   "id": "9b1475f2",
   "metadata": {},
   "outputs": [],
   "source": []
  }
 ],
 "metadata": {
  "kernelspec": {
   "display_name": "Python [conda env:pytorch_env]",
   "language": "python",
   "name": "conda-env-pytorch_env-py"
  },
  "language_info": {
   "codemirror_mode": {
    "name": "ipython",
    "version": 3
   },
   "file_extension": ".py",
   "mimetype": "text/x-python",
   "name": "python",
   "nbconvert_exporter": "python",
   "pygments_lexer": "ipython3",
   "version": "3.8.0"
  }
 },
 "nbformat": 4,
 "nbformat_minor": 5
}
